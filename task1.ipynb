{
 "cells": [
  {
   "cell_type": "code",
   "execution_count": 1,
   "id": "a89e51a3-f652-4d63-b940-ce39fafd3be3",
   "metadata": {},
   "outputs": [],
   "source": [
    "import pandas as pd\n",
    "import numpy as np\n",
    "import json\n",
    "import re"
   ]
  },
  {
   "cell_type": "code",
   "execution_count": 2,
   "id": "1aa717e3-08cf-47a2-a14b-e4d72c41be29",
   "metadata": {},
   "outputs": [],
   "source": [
    "df=pd.read_csv('Ashutosh.csv')"
   ]
  },
  {
   "cell_type": "code",
   "execution_count": 3,
   "id": "1202480b-ca07-48ed-b48e-a5d7643606ef",
   "metadata": {
    "editable": true,
    "slideshow": {
     "slide_type": ""
    },
    "tags": []
   },
   "outputs": [
    {
     "name": "stdout",
     "output_type": "stream",
     "text": [
      "<class 'pandas.core.frame.DataFrame'>\n",
      "RangeIndex: 223 entries, 0 to 222\n",
      "Data columns (total 2 columns):\n",
      " #   Column         Non-Null Count  Dtype \n",
      "---  ------         --------------  ----- \n",
      " 0   Title          219 non-null    object\n",
      " 1   JSON Response  218 non-null    object\n",
      "dtypes: object(2)\n",
      "memory usage: 3.6+ KB\n"
     ]
    }
   ],
   "source": [
    "df.info()"
   ]
  },
  {
   "cell_type": "code",
   "execution_count": 5,
   "id": "c9a9cba4-3fac-4e21-81af-571758c4c62f",
   "metadata": {},
   "outputs": [
    {
     "data": {
      "text/plain": [
       "Title            4\n",
       "JSON Response    5\n",
       "dtype: int64"
      ]
     },
     "execution_count": 5,
     "metadata": {},
     "output_type": "execute_result"
    }
   ],
   "source": [
    "df.isnull().sum()"
   ]
  },
  {
   "cell_type": "code",
   "execution_count": 6,
   "id": "993416e7-adc9-46f5-836b-97174487f28c",
   "metadata": {},
   "outputs": [],
   "source": [
    "df.dropna(inplace=True)"
   ]
  },
  {
   "cell_type": "code",
   "execution_count": 7,
   "id": "8177e3d6-19e9-4ad2-894d-316b23b755ee",
   "metadata": {},
   "outputs": [],
   "source": [
    "df = df.dropna(axis=1, how='all')"
   ]
  },
  {
   "cell_type": "code",
   "execution_count": 8,
   "id": "d4a43d27-8ff4-40c5-8d06-df48bb9d76b4",
   "metadata": {},
   "outputs": [
    {
     "data": {
      "text/plain": [
       "(217, 2)"
      ]
     },
     "execution_count": 8,
     "metadata": {},
     "output_type": "execute_result"
    }
   ],
   "source": [
    "df.shape"
   ]
  },
  {
   "cell_type": "code",
   "execution_count": 9,
   "id": "652a617f-20ac-412b-a475-a3b1f56dfefd",
   "metadata": {},
   "outputs": [
    {
     "data": {
      "text/plain": [
       "(217, 2)"
      ]
     },
     "execution_count": 9,
     "metadata": {},
     "output_type": "execute_result"
    }
   ],
   "source": [
    "def is_valid_json(json_str):\n",
    "    try:\n",
    "        json.loads(json_str)\n",
    "        return True\n",
    "    except Exception as err:\n",
    "        print(\"exception occured\",err)\n",
    "        return False\n",
    "\n",
    "df = df[df['JSON Response'].apply(is_valid_json)].reset_index(drop=True)\n",
    "df.shape"
   ]
  },
  {
   "cell_type": "code",
   "execution_count": 10,
   "id": "264fe74f-4dd3-4c21-970d-93ac4cedb3a5",
   "metadata": {},
   "outputs": [
    {
     "data": {
      "text/html": [
       "<div>\n",
       "<style scoped>\n",
       "    .dataframe tbody tr th:only-of-type {\n",
       "        vertical-align: middle;\n",
       "    }\n",
       "\n",
       "    .dataframe tbody tr th {\n",
       "        vertical-align: top;\n",
       "    }\n",
       "\n",
       "    .dataframe thead th {\n",
       "        text-align: right;\n",
       "    }\n",
       "</style>\n",
       "<table border=\"1\" class=\"dataframe\">\n",
       "  <thead>\n",
       "    <tr style=\"text-align: right;\">\n",
       "      <th></th>\n",
       "      <th>Title</th>\n",
       "      <th>JSON Response</th>\n",
       "    </tr>\n",
       "  </thead>\n",
       "  <tbody>\n",
       "    <tr>\n",
       "      <th>0</th>\n",
       "      <td>Django</td>\n",
       "      <td>{\\n    \"id\": 1250569,\\n    \"name\": \"Django\",\\n...</td>\n",
       "    </tr>\n",
       "    <tr>\n",
       "      <th>1</th>\n",
       "      <td>Coding: Intermediate level</td>\n",
       "      <td>{\\n    \"id\": 1471468,\\n    \"name\": \"Coding: In...</td>\n",
       "    </tr>\n",
       "    <tr>\n",
       "      <th>2</th>\n",
       "      <td>Docker</td>\n",
       "      <td>{\\n    \"id\": 170977,\\n    \"name\": \"Docker\",\\n ...</td>\n",
       "    </tr>\n",
       "    <tr>\n",
       "      <th>3</th>\n",
       "      <td>ASP.NET</td>\n",
       "      <td>{\\n    \"id\": 895134,\\n    \"name\": \"ASP.NET (in...</td>\n",
       "    </tr>\n",
       "    <tr>\n",
       "      <th>4</th>\n",
       "      <td>Creating REST APIs</td>\n",
       "      <td>{\\n    \"id\": 1950355,\\n    \"name\": \"Creating R...</td>\n",
       "    </tr>\n",
       "  </tbody>\n",
       "</table>\n",
       "</div>"
      ],
      "text/plain": [
       "                        Title  \\\n",
       "0                      Django   \n",
       "1  Coding: Intermediate level   \n",
       "2                      Docker   \n",
       "3                     ASP.NET   \n",
       "4          Creating REST APIs   \n",
       "\n",
       "                                       JSON Response  \n",
       "0  {\\n    \"id\": 1250569,\\n    \"name\": \"Django\",\\n...  \n",
       "1  {\\n    \"id\": 1471468,\\n    \"name\": \"Coding: In...  \n",
       "2  {\\n    \"id\": 170977,\\n    \"name\": \"Docker\",\\n ...  \n",
       "3  {\\n    \"id\": 895134,\\n    \"name\": \"ASP.NET (in...  \n",
       "4  {\\n    \"id\": 1950355,\\n    \"name\": \"Creating R...  "
      ]
     },
     "execution_count": 10,
     "metadata": {},
     "output_type": "execute_result"
    }
   ],
   "source": [
    "df.head()"
   ]
  },
  {
   "cell_type": "code",
   "execution_count": 11,
   "id": "c2af9c32-0a6d-4d8d-8fb4-f399c46d3f00",
   "metadata": {},
   "outputs": [],
   "source": [
    "def extract_preview_questions(json_str):\n",
    "    try:\n",
    "        parsed = json.loads(json_str)\n",
    "        preview_questions = parsed.get(\"preview_questions\", None)\n",
    "        return preview_questions\n",
    "    except Exception:\n",
    "        return None\n",
    "        \n",
    "df['preview_questions'] = df['JSON Response'].apply(extract_preview_questions)"
   ]
  },
  {
   "cell_type": "code",
   "execution_count": 12,
   "id": "06438971-09a6-49e1-9b51-79c2ce78a9a9",
   "metadata": {},
   "outputs": [
    {
     "data": {
      "text/html": [
       "<div>\n",
       "<style scoped>\n",
       "    .dataframe tbody tr th:only-of-type {\n",
       "        vertical-align: middle;\n",
       "    }\n",
       "\n",
       "    .dataframe tbody tr th {\n",
       "        vertical-align: top;\n",
       "    }\n",
       "\n",
       "    .dataframe thead th {\n",
       "        text-align: right;\n",
       "    }\n",
       "</style>\n",
       "<table border=\"1\" class=\"dataframe\">\n",
       "  <thead>\n",
       "    <tr style=\"text-align: right;\">\n",
       "      <th></th>\n",
       "      <th>Title</th>\n",
       "      <th>JSON Response</th>\n",
       "      <th>preview_questions</th>\n",
       "    </tr>\n",
       "  </thead>\n",
       "  <tbody>\n",
       "    <tr>\n",
       "      <th>0</th>\n",
       "      <td>Django</td>\n",
       "      <td>{\\n    \"id\": 1250569,\\n    \"name\": \"Django\",\\n...</td>\n",
       "      <td>[{'id': 1095950, 'text': '&lt;p&gt;You are working o...</td>\n",
       "    </tr>\n",
       "    <tr>\n",
       "      <th>1</th>\n",
       "      <td>Coding: Intermediate level</td>\n",
       "      <td>{\\n    \"id\": 1471468,\\n    \"name\": \"Coding: In...</td>\n",
       "      <td>[{'id': 1278402, 'text': '&lt;p&gt;&lt;span style=\"back...</td>\n",
       "    </tr>\n",
       "    <tr>\n",
       "      <th>2</th>\n",
       "      <td>Docker</td>\n",
       "      <td>{\\n    \"id\": 170977,\\n    \"name\": \"Docker\",\\n ...</td>\n",
       "      <td>[{'id': 155197, 'text': '&lt;p&gt;Given the Dockerfi...</td>\n",
       "    </tr>\n",
       "    <tr>\n",
       "      <th>3</th>\n",
       "      <td>ASP.NET</td>\n",
       "      <td>{\\n    \"id\": 895134,\\n    \"name\": \"ASP.NET (in...</td>\n",
       "      <td>[{'id': 615710, 'text': '&lt;p&gt;Which code snippet...</td>\n",
       "    </tr>\n",
       "    <tr>\n",
       "      <th>4</th>\n",
       "      <td>Creating REST APIs</td>\n",
       "      <td>{\\n    \"id\": 1950355,\\n    \"name\": \"Creating R...</td>\n",
       "      <td>[{'id': 1561619, 'text': '&lt;p&gt;&lt;span style=\"back...</td>\n",
       "    </tr>\n",
       "  </tbody>\n",
       "</table>\n",
       "</div>"
      ],
      "text/plain": [
       "                        Title  \\\n",
       "0                      Django   \n",
       "1  Coding: Intermediate level   \n",
       "2                      Docker   \n",
       "3                     ASP.NET   \n",
       "4          Creating REST APIs   \n",
       "\n",
       "                                       JSON Response  \\\n",
       "0  {\\n    \"id\": 1250569,\\n    \"name\": \"Django\",\\n...   \n",
       "1  {\\n    \"id\": 1471468,\\n    \"name\": \"Coding: In...   \n",
       "2  {\\n    \"id\": 170977,\\n    \"name\": \"Docker\",\\n ...   \n",
       "3  {\\n    \"id\": 895134,\\n    \"name\": \"ASP.NET (in...   \n",
       "4  {\\n    \"id\": 1950355,\\n    \"name\": \"Creating R...   \n",
       "\n",
       "                                   preview_questions  \n",
       "0  [{'id': 1095950, 'text': '<p>You are working o...  \n",
       "1  [{'id': 1278402, 'text': '<p><span style=\"back...  \n",
       "2  [{'id': 155197, 'text': '<p>Given the Dockerfi...  \n",
       "3  [{'id': 615710, 'text': '<p>Which code snippet...  \n",
       "4  [{'id': 1561619, 'text': '<p><span style=\"back...  "
      ]
     },
     "execution_count": 12,
     "metadata": {},
     "output_type": "execute_result"
    }
   ],
   "source": [
    "df.head()"
   ]
  },
  {
   "cell_type": "code",
   "execution_count": 13,
   "id": "5a3e0f91-7219-4919-8dfb-48ab527b88f7",
   "metadata": {},
   "outputs": [],
   "source": [
    "# df['preview_questions'].iloc[0]"
   ]
  },
  {
   "cell_type": "code",
   "execution_count": 14,
   "id": "62b591b5-f7b2-48ff-9c00-e246bcc2fab4",
   "metadata": {},
   "outputs": [],
   "source": [
    "def clean_and_format_questions(preview_questions):\n",
    "    formatted_questions = []\n",
    "\n",
    "    for question in preview_questions:\n",
    "        # Extract the question text (title)\n",
    "        title = question.get(\"text\", \"\").strip()\n",
    "\n",
    "        # Map the question type to an integer\n",
    "        ques_type = 1  # Default to multiple-choice\n",
    "        if question.get(\"type\") == \"true-false\":  # Example for other types\n",
    "            ques_type = 2\n",
    "\n",
    "        # Extract options and identify the correct answer\n",
    "        options = []\n",
    "        correct_option = None\n",
    "        for answer in question.get(\"answers\", []):\n",
    "            options.append(answer.get(\"text\", \"\").strip())\n",
    "            if answer.get(\"score\", 0) == 5:  # Assuming 5 is the score for the correct answer\n",
    "                correct_option = answer.get(\"text\", \"\").strip()\n",
    "\n",
    "        # Add the formatted question to the list\n",
    "        formatted_questions.append({\n",
    "            \"title\": title,\n",
    "            \"ques_type\": ques_type,\n",
    "            \"options\": options,\n",
    "            \"score\": correct_option\n",
    "        })\n",
    "\n",
    "    return formatted_questions"
   ]
  },
  {
   "cell_type": "code",
   "execution_count": 15,
   "id": "39f65e57-8d0c-4056-94e3-0587fcf4ce7f",
   "metadata": {},
   "outputs": [
    {
     "data": {
      "text/html": [
       "<div>\n",
       "<style scoped>\n",
       "    .dataframe tbody tr th:only-of-type {\n",
       "        vertical-align: middle;\n",
       "    }\n",
       "\n",
       "    .dataframe tbody tr th {\n",
       "        vertical-align: top;\n",
       "    }\n",
       "\n",
       "    .dataframe thead th {\n",
       "        text-align: right;\n",
       "    }\n",
       "</style>\n",
       "<table border=\"1\" class=\"dataframe\">\n",
       "  <thead>\n",
       "    <tr style=\"text-align: right;\">\n",
       "      <th></th>\n",
       "      <th>Title</th>\n",
       "      <th>JSON Response</th>\n",
       "      <th>preview_questions</th>\n",
       "    </tr>\n",
       "  </thead>\n",
       "  <tbody>\n",
       "    <tr>\n",
       "      <th>0</th>\n",
       "      <td>Django</td>\n",
       "      <td>{\\n    \"id\": 1250569,\\n    \"name\": \"Django\",\\n...</td>\n",
       "      <td>[{'id': 1095950, 'text': '&lt;p&gt;You are working o...</td>\n",
       "    </tr>\n",
       "    <tr>\n",
       "      <th>1</th>\n",
       "      <td>Coding: Intermediate level</td>\n",
       "      <td>{\\n    \"id\": 1471468,\\n    \"name\": \"Coding: In...</td>\n",
       "      <td>[{'id': 1278402, 'text': '&lt;p&gt;&lt;span style=\"back...</td>\n",
       "    </tr>\n",
       "    <tr>\n",
       "      <th>2</th>\n",
       "      <td>Docker</td>\n",
       "      <td>{\\n    \"id\": 170977,\\n    \"name\": \"Docker\",\\n ...</td>\n",
       "      <td>[{'id': 155197, 'text': '&lt;p&gt;Given the Dockerfi...</td>\n",
       "    </tr>\n",
       "    <tr>\n",
       "      <th>3</th>\n",
       "      <td>ASP.NET</td>\n",
       "      <td>{\\n    \"id\": 895134,\\n    \"name\": \"ASP.NET (in...</td>\n",
       "      <td>[{'id': 615710, 'text': '&lt;p&gt;Which code snippet...</td>\n",
       "    </tr>\n",
       "    <tr>\n",
       "      <th>4</th>\n",
       "      <td>Creating REST APIs</td>\n",
       "      <td>{\\n    \"id\": 1950355,\\n    \"name\": \"Creating R...</td>\n",
       "      <td>[{'id': 1561619, 'text': '&lt;p&gt;&lt;span style=\"back...</td>\n",
       "    </tr>\n",
       "  </tbody>\n",
       "</table>\n",
       "</div>"
      ],
      "text/plain": [
       "                        Title  \\\n",
       "0                      Django   \n",
       "1  Coding: Intermediate level   \n",
       "2                      Docker   \n",
       "3                     ASP.NET   \n",
       "4          Creating REST APIs   \n",
       "\n",
       "                                       JSON Response  \\\n",
       "0  {\\n    \"id\": 1250569,\\n    \"name\": \"Django\",\\n...   \n",
       "1  {\\n    \"id\": 1471468,\\n    \"name\": \"Coding: In...   \n",
       "2  {\\n    \"id\": 170977,\\n    \"name\": \"Docker\",\\n ...   \n",
       "3  {\\n    \"id\": 895134,\\n    \"name\": \"ASP.NET (in...   \n",
       "4  {\\n    \"id\": 1950355,\\n    \"name\": \"Creating R...   \n",
       "\n",
       "                                   preview_questions  \n",
       "0  [{'id': 1095950, 'text': '<p>You are working o...  \n",
       "1  [{'id': 1278402, 'text': '<p><span style=\"back...  \n",
       "2  [{'id': 155197, 'text': '<p>Given the Dockerfi...  \n",
       "3  [{'id': 615710, 'text': '<p>Which code snippet...  \n",
       "4  [{'id': 1561619, 'text': '<p><span style=\"back...  "
      ]
     },
     "execution_count": 15,
     "metadata": {},
     "output_type": "execute_result"
    }
   ],
   "source": [
    "df.head()"
   ]
  },
  {
   "cell_type": "code",
   "execution_count": 16,
   "id": "87bee5cc-bfa6-4f94-ab59-9e3ec9c1a6c5",
   "metadata": {},
   "outputs": [],
   "source": [
    "# df['preview_questions'].iloc[0]"
   ]
  },
  {
   "cell_type": "code",
   "execution_count": 17,
   "id": "7c89a614-f834-4bd6-88dd-89bbd2a9efd3",
   "metadata": {},
   "outputs": [],
   "source": [
    "def map_question_type(question_type, answers):\n",
    "    if question_type == \"multiple-choice\":\n",
    "        correct_answers = [ans for ans in answers if ans.get(\"score\", 0) == 5]\n",
    "        if len(correct_answers) > 1:\n",
    "            return 15\n",
    "        else:\n",
    "            return 2\n",
    "    elif question_type == \"true-false\":\n",
    "        return 11\n",
    "    else:\n",
    "        return None"
   ]
  },
  {
   "cell_type": "code",
   "execution_count": 18,
   "id": "345bbcc2-660d-49da-9604-c00797826596",
   "metadata": {},
   "outputs": [],
   "source": [
    "def extract_correct_answers(answers, ques_type):\n",
    "    \"\"\"\n",
    "    Extracts the correct answer(s) based on the question type.\n",
    "    \"\"\"\n",
    "    if ques_type in [2, 11]:\n",
    "        # Single correct answer\n",
    "        correct_answer = next((ans[\"text\"] for ans in answers if ans.get(\"score\", 0) == 5), None)\n",
    "        return clean_html_tags(correct_answer) if correct_answer else None\n",
    "    elif ques_type == 15:\n",
    "        # Multiple correct answers\n",
    "        correct_answers = [clean_html_tags(ans[\"text\"]) for ans in answers if ans.get(\"score\", 0) == 5]\n",
    "        return correct_answers if correct_answers else None\n",
    "    else:\n",
    "        return None"
   ]
  },
  {
   "cell_type": "code",
   "execution_count": 19,
   "id": "6bca1619-7d38-42c3-855c-6216fe4f67fa",
   "metadata": {},
   "outputs": [],
   "source": [
    "def clean_html_tags(text):\n",
    "    \"\"\"\n",
    "    Removes HTML tags from the input text.\n",
    "    \"\"\"\n",
    "    if not text:\n",
    "        return text\n",
    "    # Remove HTML tags using regex\n",
    "    clean_text = re.sub(r\"<[^>]+>\", \"\", text)\n",
    "    # Replace HTML entities (e.g., &nbsp;, &amp;)\n",
    "    clean_text = clean_text.replace(\"&nbsp;\", \" \").replace(\"&amp;\", \"&\")\n",
    "    return clean_text.strip()"
   ]
  },
  {
   "cell_type": "code",
   "execution_count": 20,
   "id": "0df15677-9d23-4f86-a019-1be778d4515f",
   "metadata": {},
   "outputs": [],
   "source": [
    "def clean_and_format_questions(preview_questions):\n",
    "    formatted_questions = []\n",
    "\n",
    "    for question in preview_questions:\n",
    "        # Clean the question text\n",
    "        title = clean_html_tags(question.get(\"text\", \"\"))\n",
    "\n",
    "        # Map the question type\n",
    "        ques_type = map_question_type(question.get(\"type\"), question.get(\"answers\", []))\n",
    "        if not ques_type:\n",
    "            continue  # Skip unsupported question types\n",
    "\n",
    "        # Extract and clean options\n",
    "        options = [clean_html_tags(ans.get(\"text\", \"\")) for ans in question.get(\"answers\", [])]\n",
    "\n",
    "        # Extract the correct answer(s)\n",
    "        score = extract_correct_answers(question.get(\"answers\", []), ques_type)\n",
    "\n",
    "        # Add the formatted question to the list\n",
    "        formatted_questions.append({\n",
    "            \"title\": title,\n",
    "            \"ques_type\": ques_type,\n",
    "            \"options\": options,\n",
    "            \"score\": score\n",
    "        })\n",
    "\n",
    "    return formatted_questions"
   ]
  },
  {
   "cell_type": "code",
   "execution_count": 21,
   "id": "7c9649d3-ee99-4418-926c-f7f10fbc612a",
   "metadata": {},
   "outputs": [
    {
     "ename": "NameError",
     "evalue": "name 'preview_questions' is not defined",
     "output_type": "error",
     "traceback": [
      "\u001b[1;31m---------------------------------------------------------------------------\u001b[0m",
      "\u001b[1;31mNameError\u001b[0m                                 Traceback (most recent call last)",
      "Cell \u001b[1;32mIn[21], line 1\u001b[0m\n\u001b[1;32m----> 1\u001b[0m formatted_questions \u001b[38;5;241m=\u001b[39m clean_and_format_questions(\u001b[43mpreview_questions\u001b[49m)\n\u001b[0;32m      2\u001b[0m \u001b[38;5;28mprint\u001b[39m(formatted_questions)\n",
      "\u001b[1;31mNameError\u001b[0m: name 'preview_questions' is not defined"
     ]
    }
   ],
   "source": [
    "formatted_questions = clean_and_format_questions(preview_questions)\n",
    "print(formatted_questions)"
   ]
  }
 ],
 "metadata": {
  "kernelspec": {
   "display_name": "Python 3 (ipykernel)",
   "language": "python",
   "name": "python3"
  },
  "language_info": {
   "codemirror_mode": {
    "name": "ipython",
    "version": 3
   },
   "file_extension": ".py",
   "mimetype": "text/x-python",
   "name": "python",
   "nbconvert_exporter": "python",
   "pygments_lexer": "ipython3",
   "version": "3.13.1"
  }
 },
 "nbformat": 4,
 "nbformat_minor": 5
}
