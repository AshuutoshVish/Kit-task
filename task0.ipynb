{
 "cells": [
  {
   "cell_type": "code",
   "execution_count": 1,
   "id": "68643a0e-7a06-4636-82b3-64508e4d0f32",
   "metadata": {},
   "outputs": [],
   "source": [
    "import pandas as pd\n",
    "import numpy as np\n",
    "import json\n",
    "import re"
   ]
  },
  {
   "cell_type": "code",
   "execution_count": 2,
   "id": "6a315190-2cd1-40b6-9f50-32a5528947f8",
   "metadata": {},
   "outputs": [],
   "source": [
    "df = pd.read_csv('Ashutosh.csv')"
   ]
  },
  {
   "cell_type": "code",
   "execution_count": 3,
   "id": "c094be54-f84a-482d-a2ac-bc864e7fdab4",
   "metadata": {},
   "outputs": [
    {
     "data": {
      "text/html": [
       "<div>\n",
       "<style scoped>\n",
       "    .dataframe tbody tr th:only-of-type {\n",
       "        vertical-align: middle;\n",
       "    }\n",
       "\n",
       "    .dataframe tbody tr th {\n",
       "        vertical-align: top;\n",
       "    }\n",
       "\n",
       "    .dataframe thead th {\n",
       "        text-align: right;\n",
       "    }\n",
       "</style>\n",
       "<table border=\"1\" class=\"dataframe\">\n",
       "  <thead>\n",
       "    <tr style=\"text-align: right;\">\n",
       "      <th></th>\n",
       "      <th>Title</th>\n",
       "      <th>JSON Response</th>\n",
       "    </tr>\n",
       "  </thead>\n",
       "  <tbody>\n",
       "    <tr>\n",
       "      <th>0</th>\n",
       "      <td>Django</td>\n",
       "      <td>{\\n    \"id\": 1250569,\\n    \"name\": \"Django\",\\n...</td>\n",
       "    </tr>\n",
       "    <tr>\n",
       "      <th>1</th>\n",
       "      <td>Coding: Intermediate level</td>\n",
       "      <td>{\\n    \"id\": 1471468,\\n    \"name\": \"Coding: In...</td>\n",
       "    </tr>\n",
       "    <tr>\n",
       "      <th>2</th>\n",
       "      <td>Docker</td>\n",
       "      <td>{\\n    \"id\": 170977,\\n    \"name\": \"Docker\",\\n ...</td>\n",
       "    </tr>\n",
       "    <tr>\n",
       "      <th>3</th>\n",
       "      <td>ASP.NET</td>\n",
       "      <td>{\\n    \"id\": 895134,\\n    \"name\": \"ASP.NET (in...</td>\n",
       "    </tr>\n",
       "    <tr>\n",
       "      <th>4</th>\n",
       "      <td>Creating REST APIs</td>\n",
       "      <td>{\\n    \"id\": 1950355,\\n    \"name\": \"Creating R...</td>\n",
       "    </tr>\n",
       "  </tbody>\n",
       "</table>\n",
       "</div>"
      ],
      "text/plain": [
       "                        Title  \\\n",
       "0                      Django   \n",
       "1  Coding: Intermediate level   \n",
       "2                      Docker   \n",
       "3                     ASP.NET   \n",
       "4          Creating REST APIs   \n",
       "\n",
       "                                       JSON Response  \n",
       "0  {\\n    \"id\": 1250569,\\n    \"name\": \"Django\",\\n...  \n",
       "1  {\\n    \"id\": 1471468,\\n    \"name\": \"Coding: In...  \n",
       "2  {\\n    \"id\": 170977,\\n    \"name\": \"Docker\",\\n ...  \n",
       "3  {\\n    \"id\": 895134,\\n    \"name\": \"ASP.NET (in...  \n",
       "4  {\\n    \"id\": 1950355,\\n    \"name\": \"Creating R...  "
      ]
     },
     "execution_count": 3,
     "metadata": {},
     "output_type": "execute_result"
    }
   ],
   "source": [
    "df.head()"
   ]
  },
  {
   "cell_type": "code",
   "execution_count": 4,
   "id": "e3baa175-ad64-42ce-ba9d-75fabe2907d3",
   "metadata": {},
   "outputs": [
    {
     "data": {
      "text/plain": [
       "(223, 2)"
      ]
     },
     "execution_count": 4,
     "metadata": {},
     "output_type": "execute_result"
    }
   ],
   "source": [
    "df.shape"
   ]
  },
  {
   "cell_type": "code",
   "execution_count": 5,
   "id": "0f752a6a-017b-46e7-9178-aab0664d33ce",
   "metadata": {},
   "outputs": [
    {
     "data": {
      "text/plain": [
       "Title            4\n",
       "JSON Response    5\n",
       "dtype: int64"
      ]
     },
     "execution_count": 5,
     "metadata": {},
     "output_type": "execute_result"
    }
   ],
   "source": [
    "df.isnull().sum()"
   ]
  },
  {
   "cell_type": "code",
   "execution_count": 6,
   "id": "3c97f595-5470-4c37-8363-9691bbb40349",
   "metadata": {},
   "outputs": [],
   "source": [
    "df.dropna(inplace=True)"
   ]
  },
  {
   "cell_type": "code",
   "execution_count": 7,
   "id": "cc2c93e0-8ab1-403e-98a7-af3052263aff",
   "metadata": {},
   "outputs": [
    {
     "data": {
      "text/plain": [
       "(217, 2)"
      ]
     },
     "execution_count": 7,
     "metadata": {},
     "output_type": "execute_result"
    }
   ],
   "source": [
    "df.shape"
   ]
  },
  {
   "cell_type": "code",
   "execution_count": 8,
   "id": "d167197f-0abf-422c-90d2-8de67ba55ce6",
   "metadata": {},
   "outputs": [
    {
     "data": {
      "text/plain": [
       "Index(['Title', 'JSON Response'], dtype='object')"
      ]
     },
     "execution_count": 8,
     "metadata": {},
     "output_type": "execute_result"
    }
   ],
   "source": [
    "df.columns"
   ]
  },
  {
   "cell_type": "code",
   "execution_count": 9,
   "id": "d4716102-22ba-4303-9dff-fde772b6cf19",
   "metadata": {},
   "outputs": [
    {
     "data": {
      "text/plain": [
       "Title            0\n",
       "JSON Response    0\n",
       "dtype: int64"
      ]
     },
     "execution_count": 9,
     "metadata": {},
     "output_type": "execute_result"
    }
   ],
   "source": [
    "df.isnull().sum()"
   ]
  },
  {
   "cell_type": "code",
   "execution_count": 10,
   "id": "20f85f46-d881-4202-b013-e77830f43e03",
   "metadata": {},
   "outputs": [
    {
     "data": {
      "text/plain": [
       "'{\\n    \"id\": 1250569,\\n    \"name\": \"Django\",\\n    \"summary\": \"This Django test evaluates a candidate’s skills using the Django framework. This screening test will help you hire web developers and back-end engineers who can build reliable web applications with Django.\",\\n    \"duration\": 600.0,\\n    \"estimated_duration\": null,\\n    \"type\": [\\n        {\\n            \"id\": 7,\\n            \"name\": \"Programming skills\",\\n            \"visible\": true\\n        }\\n    ],\\n    \"is_new\": false,\\n    \"content_type_name\": \"test_authoring.test\",\\n    \"default_language\": \"en\",\\n    \"description\": \"Django is a high-level Python web framework that encourages rapid development and clean, pragmatic design. Hiring candidates with strong Django skills can lead to faster development, improved software scalability, better security, cost savings, and greater flexibility.  \\\\n\\\\nThis test evaluates candidates’ abilities to use Django’s model system for effective database management, implement Django views, write great Django templates, and use Django form features and validation.\\\\n\\\\nCandidates who do well on this test will demonstrate the ability to design and implement database models, create views that handle user requests and return appropriate responses, build efficient and reusable templates that display data, validate user input, write comprehensive tests to ensure the reliability of their code, and handle errors gracefully.\\\\n\\\\nSuccessful candidates will create scalable and maintainable web applications, reduce development time and costs, improve user experience, and effectively handle and recover from errors. Their proficiency in testing will help ensure the quality and stability of their applications, while their error-handling skills will contribute to a seamless user experience and enable effective troubleshooting.\\\\n\\\\nBy evaluating candidates’ Django proficiency, you can identify candidates well-equipped to develop robust and high-performing web applications. Their ability to deliver quality code, handle errors effectively, and provide a seamless user experience will increase customer satisfaction, higher engagement, and better business outcomes.\\\\n\\\\nIf you are interested in a test focusing specifically on the Django REST Framework (DRF), please visit our test library to find our DRF test.\",\\n    \"relevant\": \"Django developers, full-stack developers, back-end developers, web developers, software engineers, and any other roles that involve developing and maintaining web applications using the Django framework.\",\\n    \"job_roles\": [\\n        4058,\\n        3224,\\n        1961,\\n        6214,\\n        2297,\\n        4281,\\n        2321,\\n        2327,\\n        2354,\\n        1853,\\n        3536,\\n        4516,\\n        4528,\\n        4529,\\n        4530,\\n        4534,\\n        6185,\\n        2825,\\n        2834,\\n        2861,\\n        2864,\\n        2867,\\n        2870,\\n        3002,\\n        3014,\\n        6084,\\n        5074,\\n        5075,\\n        3113,\\n        3152,\\n        3155,\\n        1739,\\n        4059,\\n        3179\\n    ],\\n    \"owner\": {\\n        \"id\": 674180,\\n        \"biography\": \"Augustine is a seasoned software engineer specializing in backend development with Python/Django and NodeJS. With a passion for programming since a child, Augustine delights in the relationship between engineer and end user, creating powerful applications that can change the world. In his free time, Augustine enjoys all things nature-related, fueling his curiosity and creativity, which he brings to all his software engineering endeavors.\",\\n        \"country\": null,\\n        \"image\": \"https://tgo-public-assets-production.s3.amazonaws.com/production/76c0d130-be3c-405e-b536-8d14ddde3244-3d75d807-6ed6-4fa4-9836-592ad5583eb7.png\",\\n        \"full_name\": \"Augustine S.\",\\n        \"url\": null\\n    },\\n    \"level\": \"intermediate\",\\n    \"language\": \"en\",\\n    \"covered_skills\": [\\n        {\\n            \"id\": 1294804,\\n            \"description\": \"Preview questions\",\\n            \"preview\": true\\n        },\\n        {\\n            \"id\": 1294800,\\n            \"description\": \"Models and object-relational mapping (ORM)\",\\n            \"preview\": false\\n        },\\n        {\\n            \"id\": 1294801,\\n            \"description\": \"Views and templates\",\\n            \"preview\": false\\n        },\\n        {\\n            \"id\": 1294802,\\n            \"description\": \"Testing and security\",\\n            \"preview\": false\\n        },\\n        {\\n            \"id\": 1294803,\\n            \"description\": \"Forms and the Django admin\",\\n            \"preview\": false\\n        }\\n    ],\\n    \"preview_questions\": [\\n        {\\n            \"id\": 1095950,\\n            \"text\": \"<p>You are working on a Django project for a company that specializes in real estate. You need to choose a field type for the company’s model for storing property information that allows users to enter a price in US dollars. However, the company also operates in other countries and wants to support other currencies.</p><p>&nbsp;</p><p><strong style=\\\\\"color: rgb(0, 0, 0);\\\\\">Which of the following is the best approach for choosing this field?</strong></p>\",\\n            \"intro_text\": null,\\n            \"type\": \"multiple-choice\",\\n            \"shuffle\": true,\\n            \"answers\": [\\n                {\\n                    \"id\": 9252450,\\n                    \"text\": \"<p>Create a field that stores the price as a <code><strong>DecimalField</strong></code> and the currency code as a <code><strong>CharField</strong></code>.</p>\",\\n                    \"score\": 5,\\n                    \"rich_text\": false\\n                },\\n                {\\n                    \"id\": 9252451,\\n                    \"text\": \"<p>Create a <code><strong>DecimalField</strong></code> and allow users to enter the currency code as a separate field.</p>\",\\n                    \"score\": 0,\\n                    \"rich_text\": false\\n                },\\n                {\\n                    \"id\": 9252452,\\n                    \"text\": \"<p>Use Django\\'s built-in <code><strong>MoneyField</strong></code> and add support for additional currencies.</p>\",\\n                    \"score\": 0,\\n                    \"rich_text\": false\\n                },\\n                {\\n                    \"id\": 9252453,\\n                    \"text\": \"<p>Employ Django\\'s built-in <code><strong>CurrencyField</strong></code> and add support for US dollars.</p>\",\\n                    \"score\": 0,\\n                    \"rich_text\": false\\n                }\\n            ],\\n            \"skill_area\": 1294804,\\n            \"status\": \"active\",\\n            \"state\": \"new\",\\n            \"order\": 1,\\n            \"has_changed\": false,\\n            \"has_versions\": false,\\n            \"duration\": 0,\\n            \"previous_version\": null,\\n            \"identifier\": \"Q00.001\",\\n            \"code_language\": null,\\n            \"initial_code\": null,\\n            \"correct_code\": \"not-applicable\",\\n            \"return_type\": \"str\",\\n            \"function_name\": null,\\n            \"code_params\": [],\\n            \"code_test_cases\": [],\\n            \"sql_return_type\": \"SELECT\",\\n            \"initial_sql\": null,\\n            \"sql_test_cases\": [],\\n            \"typing_test_type\": null,\\n            \"typing_test_config\": null,\\n            \"typing_test_mode\": {\\n                \"numbers\": false,\\n                \"punctuation\": false,\\n                \"funbox\": \"none\",\\n                \"sentences\": false\\n            },\\n            \"long_answer_list\": false,\\n            \"max_items\": 100,\\n            \"min_items\": 0,\\n            \"scale\": 5,\\n            \"custom_question_id\": 1095950,\\n            \"what_to_look_for_in_the_answer\": \"\",\\n            \"why_is_this_question_relevant\": \"\",\\n            \"title\": \"\",\\n            \"category\": [],\\n            \"language\": \"en\",\\n            \"default_language\": \"en\",\\n            \"resources\": [],\\n            \"boilerplates\": [],\\n            \"programming_solutions\": [],\\n            \"test_cases\": [],\\n            \"test_version_number\": 1\\n        },\\n        {\\n            \"id\": 1095951,\\n            \"text\": \"<p>You have been hired as a Django website developer for an up-and-coming social media app company.&nbsp;You are working on the Django view responsible for displaying a list of posts from the social media app. You want to write a test to verify that the view uses the correct template. You’ve started with the code shown below.</p><p>&nbsp;</p><p><strong>Which line of code correctly completes the snippet to set up tests for this?</strong></p><p><strong>&nbsp;</strong></p><pre class=\\\\\"ql-syntax\\\\\" spellcheck=\\\\\"false\\\\\"><span class=\\\\\"hljs-keyword\\\\\">from</span> django.test <span class=\\\\\"hljs-keyword\\\\\">import</span> TestCase\\\\n<span class=\\\\\"hljs-keyword\\\\\">from</span> django.urls <span class=\\\\\"hljs-keyword\\\\\">import</span> reverse\\\\n<span class=\\\\\"hljs-class\\\\\"><span class=\\\\\"hljs-keyword\\\\\">class</span> <span class=\\\\\"hljs-title\\\\\">PostsTestCase</span><span class=\\\\\"hljs-params\\\\\">(TestCase)</span>:</span>\\\\n&nbsp;&nbsp;&nbsp;<span class=\\\\\"hljs-function\\\\\"><span class=\\\\\"hljs-keyword\\\\\">def</span> <span class=\\\\\"hljs-title\\\\\">test_post_template</span><span class=\\\\\"hljs-params\\\\\">(self)</span>:</span>\\\\n&nbsp;&nbsp;&nbsp;&nbsp;&nbsp;&nbsp;&nbsp;url = reverse(<span class=\\\\\"hljs-string\\\\\">\\'posts\\'</span>)\\\\n&nbsp;&nbsp;&nbsp;&nbsp;&nbsp;&nbsp;&nbsp;response = self.client.get(url)\\\\n</pre>\",\\n            \"intro_text\": null,\\n            \"type\": \"multiple-choice\",\\n            \"shuffle\": true,\\n            \"answers\": [\\n                {\\n                    \"id\": 9252454,\\n                    \"text\": \"<p><code><strong>self.assertEqual(response.template, \\'core/posts.html\\')</strong></code></p>\",\\n                    \"score\": 0,\\n                    \"rich_text\": false\\n                },\\n                {\\n                    \"id\": 9252455,\\n                    \"text\": \"<p><code><strong>self.assertTemplateUsed(response.template, \\'core/posts.html\\')</strong></code></p>\",\\n                    \"score\": 0,\\n                    \"rich_text\": false\\n                },\\n                {\\n                    \"id\": 9252456,\\n                    \"text\": \"<p><code><strong>self.assertTemplateUsed(response, \\'core/posts.html\\')</strong></code></p>\",\\n                    \"score\": 5,\\n                    \"rich_text\": false\\n                },\\n                {\\n                    \"id\": 9252457,\\n                    \"text\": \"<p><code><strong>self.assertEqual(response, \\'core/posts.html\\')</strong></code></p>\",\\n                    \"score\": 0,\\n                    \"rich_text\": false\\n                }\\n            ],\\n            \"skill_area\": 1294804,\\n            \"status\": \"active\",\\n            \"state\": \"new\",\\n            \"order\": 2,\\n            \"has_changed\": false,\\n            \"has_versions\": false,\\n            \"duration\": 0,\\n            \"previous_version\": null,\\n            \"identifier\": \"Q00.002\",\\n            \"code_language\": null,\\n            \"initial_code\": null,\\n            \"correct_code\": \"not-applicable\",\\n            \"return_type\": \"str\",\\n            \"function_name\": null,\\n            \"code_params\": [],\\n            \"code_test_cases\": [],\\n            \"sql_return_type\": \"SELECT\",\\n            \"initial_sql\": null,\\n            \"sql_test_cases\": [],\\n            \"typing_test_type\": null,\\n            \"typing_test_config\": null,\\n            \"typing_test_mode\": {\\n                \"numbers\": false,\\n                \"punctuation\": false,\\n                \"funbox\": \"none\",\\n                \"sentences\": false\\n            },\\n            \"long_answer_list\": false,\\n            \"max_items\": 100,\\n            \"min_items\": 0,\\n            \"scale\": 5,\\n            \"custom_question_id\": 1095951,\\n            \"what_to_look_for_in_the_answer\": \"\",\\n            \"why_is_this_question_relevant\": \"\",\\n            \"title\": \"\",\\n            \"category\": [],\\n            \"language\": \"en\",\\n            \"default_language\": \"en\",\\n            \"resources\": [],\\n            \"boilerplates\": [],\\n            \"programming_solutions\": [],\\n            \"test_cases\": [],\\n            \"test_version_number\": 1\\n        },\\n        {\\n            \"id\": 1095952,\\n            \"text\": \"<p>You are the lead developer creating a business website in Django. The website must have a “Contact Us” page that allows customers to ask questions and reach customer service. This page should show text fields for name, email, subject, and message. You already have a Contact model with name, email, subject, and message as fields.</p><p><br></p><p><strong>What is the best approach to define and create a form using Django\\'s form classes with the Contact model?</strong></p>\",\\n            \"intro_text\": null,\\n            \"type\": \"multiple-choice\",\\n            \"shuffle\": true,\\n            \"answers\": [\\n                {\\n                    \"id\": 9252458,\\n                    \"text\": \"<p>Define the form as a subclass of <code><strong>forms.Form</strong></code> and use <code><strong>forms.CharField</strong></code> for all the fields.</p>\",\\n                    \"score\": 0,\\n                    \"rich_text\": false\\n                },\\n                {\\n                    \"id\": 9252459,\\n                    \"text\": \"<p>Define the form as a subclass of <code><strong>forms.ModelForm</strong></code> and use <code><strong>forms.CharField</strong></code> for all the fields.</p>\",\\n                    \"score\": 0,\\n                    \"rich_text\": false\\n                },\\n                {\\n                    \"id\": 9252460,\\n                    \"text\": \"<p>Define the form as a subclass of <code><strong>forms.Form</strong></code> and use <code><strong>forms.EmailField</strong></code> for the email field and <code><strong>forms.CharField</strong></code> for the other fields.</p>\",\\n                    \"score\": 0,\\n                    \"rich_text\": false\\n                },\\n                {\\n                    \"id\": 9252461,\\n                    \"text\": \"<p>Define the form as a subclass of <code><strong>forms.ModelForm</strong></code> with name, email, subject, and message in the fields array.</p>\",\\n                    \"score\": 5,\\n                    \"rich_text\": false\\n                }\\n            ],\\n            \"skill_area\": 1294804,\\n            \"status\": \"active\",\\n            \"state\": \"new\",\\n            \"order\": 3,\\n            \"has_changed\": false,\\n            \"has_versions\": false,\\n            \"duration\": 0,\\n            \"previous_version\": null,\\n            \"identifier\": \"Q00.003\",\\n            \"code_language\": null,\\n            \"initial_code\": null,\\n            \"correct_code\": \"not-applicable\",\\n            \"return_type\": \"str\",\\n            \"function_name\": null,\\n            \"code_params\": [],\\n            \"code_test_cases\": [],\\n            \"sql_return_type\": \"SELECT\",\\n            \"initial_sql\": null,\\n            \"sql_test_cases\": [],\\n            \"typing_test_type\": null,\\n            \"typing_test_config\": null,\\n            \"typing_test_mode\": {\\n                \"numbers\": false,\\n                \"punctuation\": false,\\n                \"funbox\": \"none\",\\n                \"sentences\": false\\n            },\\n            \"long_answer_list\": false,\\n            \"max_items\": 100,\\n            \"min_items\": 0,\\n            \"scale\": 5,\\n            \"custom_question_id\": 1095952,\\n            \"what_to_look_for_in_the_answer\": \"\",\\n            \"why_is_this_question_relevant\": \"\",\\n            \"title\": \"\",\\n            \"category\": [],\\n            \"language\": \"en\",\\n            \"default_language\": \"en\",\\n            \"resources\": [],\\n            \"boilerplates\": [],\\n            \"programming_solutions\": [],\\n            \"test_cases\": [],\\n            \"test_version_number\": 1\\n        },\\n        {\\n            \"id\": 1095953,\\n            \"text\": \"<p>You are the lead developer building a Django blogging application. The application should allow guests to post articles on the site. The site’s instructions indicate that guest authors should capitalize every word in their blog post titles.&nbsp;However, some authors aren’t following instructions and post titles with lowercase words. You need to change all these titles so every word is capitalized.</p><p>&nbsp;</p><p><strong style=\\\\\"color: rgb(0, 0, 0);\\\\\">How should you accomplish this most efficiently?</strong></p>\",\\n            \"intro_text\": null,\\n            \"type\": \"multiple-choice\",\\n            \"shuffle\": true,\\n            \"answers\": [\\n                {\\n                    \"id\": 9252462,\\n                    \"text\": \"<p>Impersonate the guest authors and change the titles in the database manually.</p>\",\\n                    \"score\": 0,\\n                    \"rich_text\": false\\n                },\\n                {\\n                    \"id\": 9252463,\\n                    \"text\": \"<p>Email the guest authors and instruct them to capitalize their blog post titles.</p>\",\\n                    \"score\": 0,\\n                    \"rich_text\": false\\n                },\\n                {\\n                    \"id\": 9252464,\\n                    \"text\": \"<p>Use the <code><strong>```capitalize```</strong></code> HTML template filter, e.g.,&nbsp;<code><strong>{{ value | capitalize }}</strong></code></p>\",\\n                    \"score\": 0,\\n                    \"rich_text\": false\\n                },\\n                {\\n                    \"id\": 9252465,\\n                    \"text\": \"<p>Apply the <code><strong>```title```</strong></code> HTML template filter, e.g., <code><strong>{{ value | title }}</strong></code></p>\",\\n                    \"score\": 5,\\n                    \"rich_text\": false\\n                }\\n            ],\\n            \"skill_area\": 1294804,\\n            \"status\": \"active\",\\n            \"state\": \"new\",\\n            \"order\": 4,\\n            \"has_changed\": false,\\n            \"has_versions\": false,\\n            \"duration\": 0,\\n            \"previous_version\": null,\\n            \"identifier\": \"Q00.004\",\\n            \"code_language\": null,\\n            \"initial_code\": null,\\n            \"correct_code\": \"not-applicable\",\\n            \"return_type\": \"str\",\\n            \"function_name\": null,\\n            \"code_params\": [],\\n            \"code_test_cases\": [],\\n            \"sql_return_type\": \"SELECT\",\\n            \"initial_sql\": null,\\n            \"sql_test_cases\": [],\\n            \"typing_test_type\": null,\\n            \"typing_test_config\": null,\\n            \"typing_test_mode\": {\\n                \"numbers\": false,\\n                \"punctuation\": false,\\n                \"funbox\": \"none\",\\n                \"sentences\": false\\n            },\\n            \"long_answer_list\": false,\\n            \"max_items\": 100,\\n            \"min_items\": 0,\\n            \"scale\": 5,\\n            \"custom_question_id\": 1095953,\\n            \"what_to_look_for_in_the_answer\": \"\",\\n            \"why_is_this_question_relevant\": \"\",\\n            \"title\": \"\",\\n            \"category\": [],\\n            \"language\": \"en\",\\n            \"default_language\": \"en\",\\n            \"resources\": [],\\n            \"boilerplates\": [],\\n            \"programming_solutions\": [],\\n            \"test_cases\": [],\\n            \"test_version_number\": 1\\n        }\\n    ],\\n    \"get_level_display\": \"Intermediate\",\\n    \"preview\": 1294804,\\n    \"modified\": \"2024-10-25T12:56:52.444185Z\",\\n    \"test_uuid\": \"fe7212c3-c6ad-46ee-b46f-099994d110f5\",\\n    \"is_premium\": true,\\n    \"is_private_test\": false,\\n    \"is_spreadsheet_test\": false,\\n    \"test_type_names\": [\\n        \"Programming skills\"\\n    ],\\n    \"available_languages\": [\\n        \"en\"\\n    ],\\n    \"is_language_agnostic_test\": false,\\n    \"programming_languages\": [],\\n    \"status\": \"published\",\\n    \"is_coderunner_v1\": null\\n}'"
      ]
     },
     "execution_count": 10,
     "metadata": {},
     "output_type": "execute_result"
    }
   ],
   "source": [
    "df[\"JSON Response\"].iloc[0]"
   ]
  },
  {
   "cell_type": "code",
   "execution_count": 11,
   "id": "62ab5600-c0f2-4e41-b43a-02441a17c1aa",
   "metadata": {},
   "outputs": [],
   "source": [
    "df.rename(columns={df.columns[1]: 'json_response'}, inplace=True)"
   ]
  },
  {
   "cell_type": "code",
   "execution_count": null,
   "id": "e890ac79-fd96-437f-8db5-6b6b0493365f",
   "metadata": {},
   "outputs": [],
   "source": []
  },
  {
   "cell_type": "code",
   "execution_count": 12,
   "id": "854d83ed-d84a-47c1-b1ba-5a15944127ad",
   "metadata": {
    "scrolled": true
   },
   "outputs": [
    {
     "data": {
      "text/plain": [
       "(217, 2)"
      ]
     },
     "execution_count": 12,
     "metadata": {},
     "output_type": "execute_result"
    }
   ],
   "source": [
    "def is_valid_json(json_str):\n",
    "    try:\n",
    "        json.loads(json_str)\n",
    "        return True\n",
    "    except Exception as err:\n",
    "        print(\"exception occured\",err)\n",
    "        return False\n",
    "\n",
    "df = df[df['json_response'].apply(is_valid_json)].reset_index(drop=True)\n",
    "df.shape"
   ]
  },
  {
   "cell_type": "code",
   "execution_count": 13,
   "id": "3f85b7d7-88ae-4e4a-be8b-1d939ab3f4f2",
   "metadata": {},
   "outputs": [
    {
     "data": {
      "text/plain": [
       "(217, 2)"
      ]
     },
     "execution_count": 13,
     "metadata": {},
     "output_type": "execute_result"
    }
   ],
   "source": [
    "df.shape"
   ]
  },
  {
   "cell_type": "code",
   "execution_count": 14,
   "id": "35bae401-f352-44e8-aab8-d0281505d30e",
   "metadata": {},
   "outputs": [
    {
     "data": {
      "text/plain": [
       "Title            0\n",
       "json_response    0\n",
       "dtype: int64"
      ]
     },
     "execution_count": 14,
     "metadata": {},
     "output_type": "execute_result"
    }
   ],
   "source": [
    "df.isnull().sum()"
   ]
  },
  {
   "cell_type": "code",
   "execution_count": 15,
   "id": "7f0ae9e3-bc82-4a82-ab24-c549072a4ac2",
   "metadata": {},
   "outputs": [
    {
     "name": "stdout",
     "output_type": "stream",
     "text": [
      "<class 'pandas.core.frame.DataFrame'>\n",
      "RangeIndex: 217 entries, 0 to 216\n",
      "Data columns (total 3 columns):\n",
      " #   Column         Non-Null Count  Dtype \n",
      "---  ------         --------------  ----- \n",
      " 0   Title          217 non-null    object\n",
      " 1   json_response  217 non-null    object\n",
      " 2   type           217 non-null    object\n",
      "dtypes: object(3)\n",
      "memory usage: 5.2+ KB\n"
     ]
    }
   ],
   "source": [
    "def extract_type_name(json_str):\n",
    "    try:\n",
    "        data = json.loads(json_str)\n",
    "        type_list = data.get(\"type\", [])\n",
    "\n",
    "        if isinstance(type_list, list) and type_list and isinstance(type_list[0], dict):\n",
    "            return type_list[0].get(\"name\") \n",
    "            \n",
    "    except Exception as err:\n",
    "        print(\"exception occured\",err)\n",
    "\n",
    "    return None \n",
    "        \n",
    "df[\"type\"] = df[\"json_response\"].apply(extract_type_name)\n",
    "df.info()"
   ]
  },
  {
   "cell_type": "code",
   "execution_count": 16,
   "id": "14669e4a-3005-4bb9-8dbf-a6037a8f31bf",
   "metadata": {},
   "outputs": [
    {
     "data": {
      "text/html": [
       "<div>\n",
       "<style scoped>\n",
       "    .dataframe tbody tr th:only-of-type {\n",
       "        vertical-align: middle;\n",
       "    }\n",
       "\n",
       "    .dataframe tbody tr th {\n",
       "        vertical-align: top;\n",
       "    }\n",
       "\n",
       "    .dataframe thead th {\n",
       "        text-align: right;\n",
       "    }\n",
       "</style>\n",
       "<table border=\"1\" class=\"dataframe\">\n",
       "  <thead>\n",
       "    <tr style=\"text-align: right;\">\n",
       "      <th></th>\n",
       "      <th>Title</th>\n",
       "      <th>json_response</th>\n",
       "      <th>type</th>\n",
       "    </tr>\n",
       "  </thead>\n",
       "  <tbody>\n",
       "    <tr>\n",
       "      <th>0</th>\n",
       "      <td>Django</td>\n",
       "      <td>{\\n    \"id\": 1250569,\\n    \"name\": \"Django\",\\n...</td>\n",
       "      <td>Programming skills</td>\n",
       "    </tr>\n",
       "    <tr>\n",
       "      <th>1</th>\n",
       "      <td>Coding: Intermediate level</td>\n",
       "      <td>{\\n    \"id\": 1471468,\\n    \"name\": \"Coding: In...</td>\n",
       "      <td>Programming skills</td>\n",
       "    </tr>\n",
       "    <tr>\n",
       "      <th>2</th>\n",
       "      <td>Docker</td>\n",
       "      <td>{\\n    \"id\": 170977,\\n    \"name\": \"Docker\",\\n ...</td>\n",
       "      <td>Software skills</td>\n",
       "    </tr>\n",
       "    <tr>\n",
       "      <th>3</th>\n",
       "      <td>ASP.NET</td>\n",
       "      <td>{\\n    \"id\": 895134,\\n    \"name\": \"ASP.NET (in...</td>\n",
       "      <td>Programming skills</td>\n",
       "    </tr>\n",
       "    <tr>\n",
       "      <th>4</th>\n",
       "      <td>Creating REST APIs</td>\n",
       "      <td>{\\n    \"id\": 1950355,\\n    \"name\": \"Creating R...</td>\n",
       "      <td>Programming skills</td>\n",
       "    </tr>\n",
       "  </tbody>\n",
       "</table>\n",
       "</div>"
      ],
      "text/plain": [
       "                        Title  \\\n",
       "0                      Django   \n",
       "1  Coding: Intermediate level   \n",
       "2                      Docker   \n",
       "3                     ASP.NET   \n",
       "4          Creating REST APIs   \n",
       "\n",
       "                                       json_response                type  \n",
       "0  {\\n    \"id\": 1250569,\\n    \"name\": \"Django\",\\n...  Programming skills  \n",
       "1  {\\n    \"id\": 1471468,\\n    \"name\": \"Coding: In...  Programming skills  \n",
       "2  {\\n    \"id\": 170977,\\n    \"name\": \"Docker\",\\n ...     Software skills  \n",
       "3  {\\n    \"id\": 895134,\\n    \"name\": \"ASP.NET (in...  Programming skills  \n",
       "4  {\\n    \"id\": 1950355,\\n    \"name\": \"Creating R...  Programming skills  "
      ]
     },
     "execution_count": 16,
     "metadata": {},
     "output_type": "execute_result"
    }
   ],
   "source": [
    "df.head()"
   ]
  },
  {
   "cell_type": "code",
   "execution_count": 17,
   "id": "b8521009-ecc4-406f-93c9-1d93fe22af79",
   "metadata": {},
   "outputs": [],
   "source": [
    "def extractJSON(json_str,key,subkey=None):\n",
    "    try:\n",
    "        parsed = json.loads(json_str)\n",
    "        value = parsed.get(key,None)\n",
    "\n",
    "        if isinstance(value,list) and len(value)>0 and isinstance(value[0],dict):\n",
    "            return value[0].get(subkey,None) if subkey else value[0]\n",
    "        return value\n",
    "    except  Exception as err:\n",
    "        print(\"exception occured\",err)\n",
    "        return None"
   ]
  },
  {
   "cell_type": "code",
   "execution_count": 18,
   "id": "007e1d39-a2b0-4db0-bb4a-0ae0e6e1e448",
   "metadata": {},
   "outputs": [],
   "source": [
    "df['questions'] = df['json_response'].apply(lambda x: extractJSON(x,'preview_questions','text'))"
   ]
  },
  {
   "cell_type": "code",
   "execution_count": 19,
   "id": "bdfb5e1e-ce27-4144-b5c5-f9b2147665f2",
   "metadata": {},
   "outputs": [
    {
     "data": {
      "text/html": [
       "<div>\n",
       "<style scoped>\n",
       "    .dataframe tbody tr th:only-of-type {\n",
       "        vertical-align: middle;\n",
       "    }\n",
       "\n",
       "    .dataframe tbody tr th {\n",
       "        vertical-align: top;\n",
       "    }\n",
       "\n",
       "    .dataframe thead th {\n",
       "        text-align: right;\n",
       "    }\n",
       "</style>\n",
       "<table border=\"1\" class=\"dataframe\">\n",
       "  <thead>\n",
       "    <tr style=\"text-align: right;\">\n",
       "      <th></th>\n",
       "      <th>Title</th>\n",
       "      <th>json_response</th>\n",
       "      <th>type</th>\n",
       "      <th>questions</th>\n",
       "    </tr>\n",
       "  </thead>\n",
       "  <tbody>\n",
       "    <tr>\n",
       "      <th>0</th>\n",
       "      <td>Django</td>\n",
       "      <td>{\\n    \"id\": 1250569,\\n    \"name\": \"Django\",\\n...</td>\n",
       "      <td>Programming skills</td>\n",
       "      <td>&lt;p&gt;You are working on a Django project for a c...</td>\n",
       "    </tr>\n",
       "    <tr>\n",
       "      <th>1</th>\n",
       "      <td>Coding: Intermediate level</td>\n",
       "      <td>{\\n    \"id\": 1471468,\\n    \"name\": \"Coding: In...</td>\n",
       "      <td>Programming skills</td>\n",
       "      <td>&lt;p&gt;&lt;span style=\"background-color: transparent;...</td>\n",
       "    </tr>\n",
       "    <tr>\n",
       "      <th>2</th>\n",
       "      <td>Docker</td>\n",
       "      <td>{\\n    \"id\": 170977,\\n    \"name\": \"Docker\",\\n ...</td>\n",
       "      <td>Software skills</td>\n",
       "      <td>&lt;p&gt;Given the Dockerfile below, what is the bes...</td>\n",
       "    </tr>\n",
       "    <tr>\n",
       "      <th>3</th>\n",
       "      <td>ASP.NET</td>\n",
       "      <td>{\\n    \"id\": 895134,\\n    \"name\": \"ASP.NET (in...</td>\n",
       "      <td>Programming skills</td>\n",
       "      <td>&lt;p&gt;Which code snippet can you use to delay the...</td>\n",
       "    </tr>\n",
       "    <tr>\n",
       "      <th>4</th>\n",
       "      <td>Creating REST APIs</td>\n",
       "      <td>{\\n    \"id\": 1950355,\\n    \"name\": \"Creating R...</td>\n",
       "      <td>Programming skills</td>\n",
       "      <td>&lt;p&gt;&lt;span style=\"background-color: transparent;...</td>\n",
       "    </tr>\n",
       "  </tbody>\n",
       "</table>\n",
       "</div>"
      ],
      "text/plain": [
       "                        Title  \\\n",
       "0                      Django   \n",
       "1  Coding: Intermediate level   \n",
       "2                      Docker   \n",
       "3                     ASP.NET   \n",
       "4          Creating REST APIs   \n",
       "\n",
       "                                       json_response                type  \\\n",
       "0  {\\n    \"id\": 1250569,\\n    \"name\": \"Django\",\\n...  Programming skills   \n",
       "1  {\\n    \"id\": 1471468,\\n    \"name\": \"Coding: In...  Programming skills   \n",
       "2  {\\n    \"id\": 170977,\\n    \"name\": \"Docker\",\\n ...     Software skills   \n",
       "3  {\\n    \"id\": 895134,\\n    \"name\": \"ASP.NET (in...  Programming skills   \n",
       "4  {\\n    \"id\": 1950355,\\n    \"name\": \"Creating R...  Programming skills   \n",
       "\n",
       "                                           questions  \n",
       "0  <p>You are working on a Django project for a c...  \n",
       "1  <p><span style=\"background-color: transparent;...  \n",
       "2  <p>Given the Dockerfile below, what is the bes...  \n",
       "3  <p>Which code snippet can you use to delay the...  \n",
       "4  <p><span style=\"background-color: transparent;...  "
      ]
     },
     "execution_count": 19,
     "metadata": {},
     "output_type": "execute_result"
    }
   ],
   "source": [
    "df.head()"
   ]
  },
  {
   "cell_type": "code",
   "execution_count": 20,
   "id": "27e93974-3a47-400c-92e8-9800bdbb7d3a",
   "metadata": {},
   "outputs": [],
   "source": [
    "df['type'] = df['json_response'].apply(lambda x: extractJSON(x,'type','name'))"
   ]
  },
  {
   "cell_type": "code",
   "execution_count": 21,
   "id": "1999b6f5-7c0d-47a9-9a89-03310eb52ee7",
   "metadata": {},
   "outputs": [
    {
     "data": {
      "text/html": [
       "<div>\n",
       "<style scoped>\n",
       "    .dataframe tbody tr th:only-of-type {\n",
       "        vertical-align: middle;\n",
       "    }\n",
       "\n",
       "    .dataframe tbody tr th {\n",
       "        vertical-align: top;\n",
       "    }\n",
       "\n",
       "    .dataframe thead th {\n",
       "        text-align: right;\n",
       "    }\n",
       "</style>\n",
       "<table border=\"1\" class=\"dataframe\">\n",
       "  <thead>\n",
       "    <tr style=\"text-align: right;\">\n",
       "      <th></th>\n",
       "      <th>Title</th>\n",
       "      <th>json_response</th>\n",
       "      <th>type</th>\n",
       "      <th>questions</th>\n",
       "    </tr>\n",
       "  </thead>\n",
       "  <tbody>\n",
       "    <tr>\n",
       "      <th>0</th>\n",
       "      <td>Django</td>\n",
       "      <td>{\\n    \"id\": 1250569,\\n    \"name\": \"Django\",\\n...</td>\n",
       "      <td>Programming skills</td>\n",
       "      <td>&lt;p&gt;You are working on a Django project for a c...</td>\n",
       "    </tr>\n",
       "    <tr>\n",
       "      <th>1</th>\n",
       "      <td>Coding: Intermediate level</td>\n",
       "      <td>{\\n    \"id\": 1471468,\\n    \"name\": \"Coding: In...</td>\n",
       "      <td>Programming skills</td>\n",
       "      <td>&lt;p&gt;&lt;span style=\"background-color: transparent;...</td>\n",
       "    </tr>\n",
       "    <tr>\n",
       "      <th>2</th>\n",
       "      <td>Docker</td>\n",
       "      <td>{\\n    \"id\": 170977,\\n    \"name\": \"Docker\",\\n ...</td>\n",
       "      <td>Software skills</td>\n",
       "      <td>&lt;p&gt;Given the Dockerfile below, what is the bes...</td>\n",
       "    </tr>\n",
       "    <tr>\n",
       "      <th>3</th>\n",
       "      <td>ASP.NET</td>\n",
       "      <td>{\\n    \"id\": 895134,\\n    \"name\": \"ASP.NET (in...</td>\n",
       "      <td>Programming skills</td>\n",
       "      <td>&lt;p&gt;Which code snippet can you use to delay the...</td>\n",
       "    </tr>\n",
       "    <tr>\n",
       "      <th>4</th>\n",
       "      <td>Creating REST APIs</td>\n",
       "      <td>{\\n    \"id\": 1950355,\\n    \"name\": \"Creating R...</td>\n",
       "      <td>Programming skills</td>\n",
       "      <td>&lt;p&gt;&lt;span style=\"background-color: transparent;...</td>\n",
       "    </tr>\n",
       "  </tbody>\n",
       "</table>\n",
       "</div>"
      ],
      "text/plain": [
       "                        Title  \\\n",
       "0                      Django   \n",
       "1  Coding: Intermediate level   \n",
       "2                      Docker   \n",
       "3                     ASP.NET   \n",
       "4          Creating REST APIs   \n",
       "\n",
       "                                       json_response                type  \\\n",
       "0  {\\n    \"id\": 1250569,\\n    \"name\": \"Django\",\\n...  Programming skills   \n",
       "1  {\\n    \"id\": 1471468,\\n    \"name\": \"Coding: In...  Programming skills   \n",
       "2  {\\n    \"id\": 170977,\\n    \"name\": \"Docker\",\\n ...     Software skills   \n",
       "3  {\\n    \"id\": 895134,\\n    \"name\": \"ASP.NET (in...  Programming skills   \n",
       "4  {\\n    \"id\": 1950355,\\n    \"name\": \"Creating R...  Programming skills   \n",
       "\n",
       "                                           questions  \n",
       "0  <p>You are working on a Django project for a c...  \n",
       "1  <p><span style=\"background-color: transparent;...  \n",
       "2  <p>Given the Dockerfile below, what is the bes...  \n",
       "3  <p>Which code snippet can you use to delay the...  \n",
       "4  <p><span style=\"background-color: transparent;...  "
      ]
     },
     "execution_count": 21,
     "metadata": {},
     "output_type": "execute_result"
    }
   ],
   "source": [
    "df.head()"
   ]
  },
  {
   "cell_type": "code",
   "execution_count": 22,
   "id": "213b6a14-f804-485c-8259-15d3568356c2",
   "metadata": {},
   "outputs": [],
   "source": [
    "def cleanhtml(text):\n",
    "    text = re.sub(r\"<.*?>\", '', text)\n",
    "    text = text.replace('\\n', ' ')\n",
    "    text = text.replace('&nbsp;', ' ')\n",
    "    text = text.strip()\n",
    "    return text\n",
    "\n",
    "df['questions'] = df['questions'].apply(cleanhtml)"
   ]
  },
  {
   "cell_type": "code",
   "execution_count": 23,
   "id": "0fb8a54e-aa5a-472b-b65c-775af044542f",
   "metadata": {},
   "outputs": [
    {
     "data": {
      "text/html": [
       "<div>\n",
       "<style scoped>\n",
       "    .dataframe tbody tr th:only-of-type {\n",
       "        vertical-align: middle;\n",
       "    }\n",
       "\n",
       "    .dataframe tbody tr th {\n",
       "        vertical-align: top;\n",
       "    }\n",
       "\n",
       "    .dataframe thead th {\n",
       "        text-align: right;\n",
       "    }\n",
       "</style>\n",
       "<table border=\"1\" class=\"dataframe\">\n",
       "  <thead>\n",
       "    <tr style=\"text-align: right;\">\n",
       "      <th></th>\n",
       "      <th>Title</th>\n",
       "      <th>json_response</th>\n",
       "      <th>type</th>\n",
       "      <th>questions</th>\n",
       "    </tr>\n",
       "  </thead>\n",
       "  <tbody>\n",
       "    <tr>\n",
       "      <th>0</th>\n",
       "      <td>Django</td>\n",
       "      <td>{\\n    \"id\": 1250569,\\n    \"name\": \"Django\",\\n...</td>\n",
       "      <td>Programming skills</td>\n",
       "      <td>You are working on a Django project for a comp...</td>\n",
       "    </tr>\n",
       "    <tr>\n",
       "      <th>1</th>\n",
       "      <td>Coding: Intermediate level</td>\n",
       "      <td>{\\n    \"id\": 1471468,\\n    \"name\": \"Coding: In...</td>\n",
       "      <td>Programming skills</td>\n",
       "      <td>The MEX number of a non-negative set of number...</td>\n",
       "    </tr>\n",
       "    <tr>\n",
       "      <th>2</th>\n",
       "      <td>Docker</td>\n",
       "      <td>{\\n    \"id\": 170977,\\n    \"name\": \"Docker\",\\n ...</td>\n",
       "      <td>Software skills</td>\n",
       "      <td>Given the Dockerfile below, what is the best w...</td>\n",
       "    </tr>\n",
       "    <tr>\n",
       "      <th>3</th>\n",
       "      <td>ASP.NET</td>\n",
       "      <td>{\\n    \"id\": 895134,\\n    \"name\": \"ASP.NET (in...</td>\n",
       "      <td>Programming skills</td>\n",
       "      <td>Which code snippet can you use to delay the lo...</td>\n",
       "    </tr>\n",
       "    <tr>\n",
       "      <th>4</th>\n",
       "      <td>Creating REST APIs</td>\n",
       "      <td>{\\n    \"id\": 1950355,\\n    \"name\": \"Creating R...</td>\n",
       "      <td>Programming skills</td>\n",
       "      <td>You're building a high-throughput API for a cr...</td>\n",
       "    </tr>\n",
       "  </tbody>\n",
       "</table>\n",
       "</div>"
      ],
      "text/plain": [
       "                        Title  \\\n",
       "0                      Django   \n",
       "1  Coding: Intermediate level   \n",
       "2                      Docker   \n",
       "3                     ASP.NET   \n",
       "4          Creating REST APIs   \n",
       "\n",
       "                                       json_response                type  \\\n",
       "0  {\\n    \"id\": 1250569,\\n    \"name\": \"Django\",\\n...  Programming skills   \n",
       "1  {\\n    \"id\": 1471468,\\n    \"name\": \"Coding: In...  Programming skills   \n",
       "2  {\\n    \"id\": 170977,\\n    \"name\": \"Docker\",\\n ...     Software skills   \n",
       "3  {\\n    \"id\": 895134,\\n    \"name\": \"ASP.NET (in...  Programming skills   \n",
       "4  {\\n    \"id\": 1950355,\\n    \"name\": \"Creating R...  Programming skills   \n",
       "\n",
       "                                           questions  \n",
       "0  You are working on a Django project for a comp...  \n",
       "1  The MEX number of a non-negative set of number...  \n",
       "2  Given the Dockerfile below, what is the best w...  \n",
       "3  Which code snippet can you use to delay the lo...  \n",
       "4  You're building a high-throughput API for a cr...  "
      ]
     },
     "execution_count": 23,
     "metadata": {},
     "output_type": "execute_result"
    }
   ],
   "source": [
    "df.head()"
   ]
  },
  {
   "cell_type": "code",
   "execution_count": 24,
   "id": "a6e97973-6c0c-463b-96d5-36da159e3013",
   "metadata": {},
   "outputs": [],
   "source": [
    "df['question_type'] = df['json_response'].apply(lambda x:  extractJSON(x,'preview_questions','type'))"
   ]
  },
  {
   "cell_type": "code",
   "execution_count": 25,
   "id": "e84e8b1c-c9b1-4b22-82d8-a4ff6913db30",
   "metadata": {},
   "outputs": [
    {
     "data": {
      "text/html": [
       "<div>\n",
       "<style scoped>\n",
       "    .dataframe tbody tr th:only-of-type {\n",
       "        vertical-align: middle;\n",
       "    }\n",
       "\n",
       "    .dataframe tbody tr th {\n",
       "        vertical-align: top;\n",
       "    }\n",
       "\n",
       "    .dataframe thead th {\n",
       "        text-align: right;\n",
       "    }\n",
       "</style>\n",
       "<table border=\"1\" class=\"dataframe\">\n",
       "  <thead>\n",
       "    <tr style=\"text-align: right;\">\n",
       "      <th></th>\n",
       "      <th>Title</th>\n",
       "      <th>json_response</th>\n",
       "      <th>type</th>\n",
       "      <th>questions</th>\n",
       "      <th>question_type</th>\n",
       "    </tr>\n",
       "  </thead>\n",
       "  <tbody>\n",
       "    <tr>\n",
       "      <th>0</th>\n",
       "      <td>Django</td>\n",
       "      <td>{\\n    \"id\": 1250569,\\n    \"name\": \"Django\",\\n...</td>\n",
       "      <td>Programming skills</td>\n",
       "      <td>You are working on a Django project for a comp...</td>\n",
       "      <td>multiple-choice</td>\n",
       "    </tr>\n",
       "    <tr>\n",
       "      <th>1</th>\n",
       "      <td>Coding: Intermediate level</td>\n",
       "      <td>{\\n    \"id\": 1471468,\\n    \"name\": \"Coding: In...</td>\n",
       "      <td>Programming skills</td>\n",
       "      <td>The MEX number of a non-negative set of number...</td>\n",
       "      <td>code</td>\n",
       "    </tr>\n",
       "    <tr>\n",
       "      <th>2</th>\n",
       "      <td>Docker</td>\n",
       "      <td>{\\n    \"id\": 170977,\\n    \"name\": \"Docker\",\\n ...</td>\n",
       "      <td>Software skills</td>\n",
       "      <td>Given the Dockerfile below, what is the best w...</td>\n",
       "      <td>multiple-choice</td>\n",
       "    </tr>\n",
       "    <tr>\n",
       "      <th>3</th>\n",
       "      <td>ASP.NET</td>\n",
       "      <td>{\\n    \"id\": 895134,\\n    \"name\": \"ASP.NET (in...</td>\n",
       "      <td>Programming skills</td>\n",
       "      <td>Which code snippet can you use to delay the lo...</td>\n",
       "      <td>multiple-choice</td>\n",
       "    </tr>\n",
       "    <tr>\n",
       "      <th>4</th>\n",
       "      <td>Creating REST APIs</td>\n",
       "      <td>{\\n    \"id\": 1950355,\\n    \"name\": \"Creating R...</td>\n",
       "      <td>Programming skills</td>\n",
       "      <td>You're building a high-throughput API for a cr...</td>\n",
       "      <td>multiple-choice</td>\n",
       "    </tr>\n",
       "  </tbody>\n",
       "</table>\n",
       "</div>"
      ],
      "text/plain": [
       "                        Title  \\\n",
       "0                      Django   \n",
       "1  Coding: Intermediate level   \n",
       "2                      Docker   \n",
       "3                     ASP.NET   \n",
       "4          Creating REST APIs   \n",
       "\n",
       "                                       json_response                type  \\\n",
       "0  {\\n    \"id\": 1250569,\\n    \"name\": \"Django\",\\n...  Programming skills   \n",
       "1  {\\n    \"id\": 1471468,\\n    \"name\": \"Coding: In...  Programming skills   \n",
       "2  {\\n    \"id\": 170977,\\n    \"name\": \"Docker\",\\n ...     Software skills   \n",
       "3  {\\n    \"id\": 895134,\\n    \"name\": \"ASP.NET (in...  Programming skills   \n",
       "4  {\\n    \"id\": 1950355,\\n    \"name\": \"Creating R...  Programming skills   \n",
       "\n",
       "                                           questions    question_type  \n",
       "0  You are working on a Django project for a comp...  multiple-choice  \n",
       "1  The MEX number of a non-negative set of number...             code  \n",
       "2  Given the Dockerfile below, what is the best w...  multiple-choice  \n",
       "3  Which code snippet can you use to delay the lo...  multiple-choice  \n",
       "4  You're building a high-throughput API for a cr...  multiple-choice  "
      ]
     },
     "execution_count": 25,
     "metadata": {},
     "output_type": "execute_result"
    }
   ],
   "source": [
    "df.head()"
   ]
  },
  {
   "cell_type": "code",
   "execution_count": 26,
   "id": "8f633097-3f12-4be4-ade5-c58d290fdd28",
   "metadata": {},
   "outputs": [
    {
     "data": {
      "text/plain": [
       "array(['multiple-choice', 'code', 'multiple-response', 'truefalse'],\n",
       "      dtype=object)"
      ]
     },
     "execution_count": 26,
     "metadata": {},
     "output_type": "execute_result"
    }
   ],
   "source": [
    "df['question_type'].unique()"
   ]
  },
  {
   "cell_type": "code",
   "execution_count": 27,
   "id": "a718ac89-a40d-4aa5-93e6-79dee440e463",
   "metadata": {},
   "outputs": [
    {
     "data": {
      "text/plain": [
       "Title            0\n",
       "json_response    0\n",
       "type             0\n",
       "questions        0\n",
       "question_type    0\n",
       "dtype: int64"
      ]
     },
     "execution_count": 27,
     "metadata": {},
     "output_type": "execute_result"
    }
   ],
   "source": [
    "df.isnull().sum()"
   ]
  },
  {
   "cell_type": "code",
   "execution_count": 28,
   "id": "0de0a957-b850-40e4-a703-1f986a2f7769",
   "metadata": {
    "scrolled": true
   },
   "outputs": [],
   "source": [
    "def map_question_type(q_type):\n",
    "    mapping = {\n",
    "        \"multiple-choice\": 2,\n",
    "        \"truefalse\": 11,        \n",
    "        \"multiple-response\": 15 \n",
    "    }\n",
    "    return mapping.get(q_type, None)\n",
    "df[\"ques_type\"] = df[\"question_type\"].map(map_question_type)"
   ]
  },
  {
   "cell_type": "code",
   "execution_count": 29,
   "id": "354cea49-88cb-407c-9dea-f0ad54d08384",
   "metadata": {},
   "outputs": [],
   "source": [
    "df.drop(columns=[\"question_type\"], inplace=True)"
   ]
  },
  {
   "cell_type": "code",
   "execution_count": 30,
   "id": "74942de9-fdff-4962-adb3-03949f414ab0",
   "metadata": {},
   "outputs": [],
   "source": [
    "df = df.dropna(subset=[\"ques_type\"])\n",
    "df[\"ques_type\"] = df[\"ques_type\"].astype(int)"
   ]
  },
  {
   "cell_type": "code",
   "execution_count": 31,
   "id": "9d18045b-f175-4bf7-bd67-cadc3797ec72",
   "metadata": {},
   "outputs": [
    {
     "data": {
      "text/html": [
       "<div>\n",
       "<style scoped>\n",
       "    .dataframe tbody tr th:only-of-type {\n",
       "        vertical-align: middle;\n",
       "    }\n",
       "\n",
       "    .dataframe tbody tr th {\n",
       "        vertical-align: top;\n",
       "    }\n",
       "\n",
       "    .dataframe thead th {\n",
       "        text-align: right;\n",
       "    }\n",
       "</style>\n",
       "<table border=\"1\" class=\"dataframe\">\n",
       "  <thead>\n",
       "    <tr style=\"text-align: right;\">\n",
       "      <th></th>\n",
       "      <th>Title</th>\n",
       "      <th>json_response</th>\n",
       "      <th>type</th>\n",
       "      <th>questions</th>\n",
       "      <th>ques_type</th>\n",
       "    </tr>\n",
       "  </thead>\n",
       "  <tbody>\n",
       "    <tr>\n",
       "      <th>0</th>\n",
       "      <td>Django</td>\n",
       "      <td>{\\n    \"id\": 1250569,\\n    \"name\": \"Django\",\\n...</td>\n",
       "      <td>Programming skills</td>\n",
       "      <td>You are working on a Django project for a comp...</td>\n",
       "      <td>2</td>\n",
       "    </tr>\n",
       "    <tr>\n",
       "      <th>2</th>\n",
       "      <td>Docker</td>\n",
       "      <td>{\\n    \"id\": 170977,\\n    \"name\": \"Docker\",\\n ...</td>\n",
       "      <td>Software skills</td>\n",
       "      <td>Given the Dockerfile below, what is the best w...</td>\n",
       "      <td>2</td>\n",
       "    </tr>\n",
       "    <tr>\n",
       "      <th>3</th>\n",
       "      <td>ASP.NET</td>\n",
       "      <td>{\\n    \"id\": 895134,\\n    \"name\": \"ASP.NET (in...</td>\n",
       "      <td>Programming skills</td>\n",
       "      <td>Which code snippet can you use to delay the lo...</td>\n",
       "      <td>2</td>\n",
       "    </tr>\n",
       "    <tr>\n",
       "      <th>4</th>\n",
       "      <td>Creating REST APIs</td>\n",
       "      <td>{\\n    \"id\": 1950355,\\n    \"name\": \"Creating R...</td>\n",
       "      <td>Programming skills</td>\n",
       "      <td>You're building a high-throughput API for a cr...</td>\n",
       "      <td>2</td>\n",
       "    </tr>\n",
       "    <tr>\n",
       "      <th>5</th>\n",
       "      <td>Apex (Salesforce)</td>\n",
       "      <td>{\\n    \"id\": 1134919,\\n    \"name\": \"Apex (Sale...</td>\n",
       "      <td>Programming skills</td>\n",
       "      <td>Which one of the following trigger events shou...</td>\n",
       "      <td>2</td>\n",
       "    </tr>\n",
       "  </tbody>\n",
       "</table>\n",
       "</div>"
      ],
      "text/plain": [
       "                Title                                      json_response  \\\n",
       "0              Django  {\\n    \"id\": 1250569,\\n    \"name\": \"Django\",\\n...   \n",
       "2              Docker  {\\n    \"id\": 170977,\\n    \"name\": \"Docker\",\\n ...   \n",
       "3             ASP.NET  {\\n    \"id\": 895134,\\n    \"name\": \"ASP.NET (in...   \n",
       "4  Creating REST APIs  {\\n    \"id\": 1950355,\\n    \"name\": \"Creating R...   \n",
       "5   Apex (Salesforce)  {\\n    \"id\": 1134919,\\n    \"name\": \"Apex (Sale...   \n",
       "\n",
       "                 type                                          questions  \\\n",
       "0  Programming skills  You are working on a Django project for a comp...   \n",
       "2     Software skills  Given the Dockerfile below, what is the best w...   \n",
       "3  Programming skills  Which code snippet can you use to delay the lo...   \n",
       "4  Programming skills  You're building a high-throughput API for a cr...   \n",
       "5  Programming skills  Which one of the following trigger events shou...   \n",
       "\n",
       "   ques_type  \n",
       "0          2  \n",
       "2          2  \n",
       "3          2  \n",
       "4          2  \n",
       "5          2  "
      ]
     },
     "execution_count": 31,
     "metadata": {},
     "output_type": "execute_result"
    }
   ],
   "source": [
    "df.head()"
   ]
  },
  {
   "cell_type": "code",
   "execution_count": 32,
   "id": "841dcfbb-7387-4667-9274-664670b28bd9",
   "metadata": {},
   "outputs": [
    {
     "name": "stdout",
     "output_type": "stream",
     "text": [
      "ques_type\n",
      "2     195\n",
      "11      2\n",
      "15      6\n",
      "dtype: int64\n"
     ]
    }
   ],
   "source": [
    "print(df.groupby(\"ques_type\").size())"
   ]
  },
  {
   "cell_type": "code",
   "execution_count": 33,
   "id": "6c338ef1-ce05-457d-8bb0-24ea8842455f",
   "metadata": {},
   "outputs": [
    {
     "data": {
      "text/html": [
       "<div>\n",
       "<style scoped>\n",
       "    .dataframe tbody tr th:only-of-type {\n",
       "        vertical-align: middle;\n",
       "    }\n",
       "\n",
       "    .dataframe tbody tr th {\n",
       "        vertical-align: top;\n",
       "    }\n",
       "\n",
       "    .dataframe thead th {\n",
       "        text-align: right;\n",
       "    }\n",
       "</style>\n",
       "<table border=\"1\" class=\"dataframe\">\n",
       "  <thead>\n",
       "    <tr style=\"text-align: right;\">\n",
       "      <th></th>\n",
       "      <th>Title</th>\n",
       "      <th>json_response</th>\n",
       "      <th>type</th>\n",
       "      <th>questions</th>\n",
       "      <th>ques_type</th>\n",
       "    </tr>\n",
       "  </thead>\n",
       "  <tbody>\n",
       "    <tr>\n",
       "      <th>0</th>\n",
       "      <td>Django</td>\n",
       "      <td>{\\n    \"id\": 1250569,\\n    \"name\": \"Django\",\\n...</td>\n",
       "      <td>Programming skills</td>\n",
       "      <td>You are working on a Django project for a comp...</td>\n",
       "      <td>2</td>\n",
       "    </tr>\n",
       "    <tr>\n",
       "      <th>2</th>\n",
       "      <td>Docker</td>\n",
       "      <td>{\\n    \"id\": 170977,\\n    \"name\": \"Docker\",\\n ...</td>\n",
       "      <td>Software skills</td>\n",
       "      <td>Given the Dockerfile below, what is the best w...</td>\n",
       "      <td>2</td>\n",
       "    </tr>\n",
       "    <tr>\n",
       "      <th>3</th>\n",
       "      <td>ASP.NET</td>\n",
       "      <td>{\\n    \"id\": 895134,\\n    \"name\": \"ASP.NET (in...</td>\n",
       "      <td>Programming skills</td>\n",
       "      <td>Which code snippet can you use to delay the lo...</td>\n",
       "      <td>2</td>\n",
       "    </tr>\n",
       "    <tr>\n",
       "      <th>4</th>\n",
       "      <td>Creating REST APIs</td>\n",
       "      <td>{\\n    \"id\": 1950355,\\n    \"name\": \"Creating R...</td>\n",
       "      <td>Programming skills</td>\n",
       "      <td>You're building a high-throughput API for a cr...</td>\n",
       "      <td>2</td>\n",
       "    </tr>\n",
       "    <tr>\n",
       "      <th>5</th>\n",
       "      <td>Apex (Salesforce)</td>\n",
       "      <td>{\\n    \"id\": 1134919,\\n    \"name\": \"Apex (Sale...</td>\n",
       "      <td>Programming skills</td>\n",
       "      <td>Which one of the following trigger events shou...</td>\n",
       "      <td>2</td>\n",
       "    </tr>\n",
       "    <tr>\n",
       "      <th>...</th>\n",
       "      <td>...</td>\n",
       "      <td>...</td>\n",
       "      <td>...</td>\n",
       "      <td>...</td>\n",
       "      <td>...</td>\n",
       "    </tr>\n",
       "    <tr>\n",
       "      <th>212</th>\n",
       "      <td>NetSuite Administration</td>\n",
       "      <td>{\\n    \"id\": 1258902,\\n    \"name\": \"NetSuite A...</td>\n",
       "      <td>Software skills</td>\n",
       "      <td>In a custom NetSuite sales order form, the \"Pa...</td>\n",
       "      <td>2</td>\n",
       "    </tr>\n",
       "    <tr>\n",
       "      <th>213</th>\n",
       "      <td>Advanced Networking in Amazon Web Services (AWS)</td>\n",
       "      <td>{\\n    \"id\": 1431343,\\n    \"name\": \"Advanced N...</td>\n",
       "      <td>Programming skills</td>\n",
       "      <td>As a solutions architect for a company operati...</td>\n",
       "      <td>2</td>\n",
       "    </tr>\n",
       "    <tr>\n",
       "      <th>214</th>\n",
       "      <td>Linux</td>\n",
       "      <td>{\\n    \"id\": 925544,\\n    \"name\": \"Linux\",\\n  ...</td>\n",
       "      <td>Software skills</td>\n",
       "      <td>You are trying to access a Domain Name System ...</td>\n",
       "      <td>2</td>\n",
       "    </tr>\n",
       "    <tr>\n",
       "      <th>215</th>\n",
       "      <td>Wireshark</td>\n",
       "      <td>{\\n    \"id\": 996346,\\n    \"name\": \"Wireshark\",...</td>\n",
       "      <td>Software skills</td>\n",
       "      <td>You are a system administrator in a finance co...</td>\n",
       "      <td>2</td>\n",
       "    </tr>\n",
       "    <tr>\n",
       "      <th>216</th>\n",
       "      <td>Ansible</td>\n",
       "      <td>{\\n    \"id\": 561768,\\n    \"name\": \"Ansible\",\\n...</td>\n",
       "      <td>Programming skills</td>\n",
       "      <td>You manage state configurations of servers. Yo...</td>\n",
       "      <td>2</td>\n",
       "    </tr>\n",
       "  </tbody>\n",
       "</table>\n",
       "<p>203 rows × 5 columns</p>\n",
       "</div>"
      ],
      "text/plain": [
       "                                                Title  \\\n",
       "0                                              Django   \n",
       "2                                              Docker   \n",
       "3                                             ASP.NET   \n",
       "4                                  Creating REST APIs   \n",
       "5                                   Apex (Salesforce)   \n",
       "..                                                ...   \n",
       "212                           NetSuite Administration   \n",
       "213  Advanced Networking in Amazon Web Services (AWS)   \n",
       "214                                             Linux   \n",
       "215                                         Wireshark   \n",
       "216                                           Ansible   \n",
       "\n",
       "                                         json_response                type  \\\n",
       "0    {\\n    \"id\": 1250569,\\n    \"name\": \"Django\",\\n...  Programming skills   \n",
       "2    {\\n    \"id\": 170977,\\n    \"name\": \"Docker\",\\n ...     Software skills   \n",
       "3    {\\n    \"id\": 895134,\\n    \"name\": \"ASP.NET (in...  Programming skills   \n",
       "4    {\\n    \"id\": 1950355,\\n    \"name\": \"Creating R...  Programming skills   \n",
       "5    {\\n    \"id\": 1134919,\\n    \"name\": \"Apex (Sale...  Programming skills   \n",
       "..                                                 ...                 ...   \n",
       "212  {\\n    \"id\": 1258902,\\n    \"name\": \"NetSuite A...     Software skills   \n",
       "213  {\\n    \"id\": 1431343,\\n    \"name\": \"Advanced N...  Programming skills   \n",
       "214  {\\n    \"id\": 925544,\\n    \"name\": \"Linux\",\\n  ...     Software skills   \n",
       "215  {\\n    \"id\": 996346,\\n    \"name\": \"Wireshark\",...     Software skills   \n",
       "216  {\\n    \"id\": 561768,\\n    \"name\": \"Ansible\",\\n...  Programming skills   \n",
       "\n",
       "                                             questions  ques_type  \n",
       "0    You are working on a Django project for a comp...          2  \n",
       "2    Given the Dockerfile below, what is the best w...          2  \n",
       "3    Which code snippet can you use to delay the lo...          2  \n",
       "4    You're building a high-throughput API for a cr...          2  \n",
       "5    Which one of the following trigger events shou...          2  \n",
       "..                                                 ...        ...  \n",
       "212  In a custom NetSuite sales order form, the \"Pa...          2  \n",
       "213  As a solutions architect for a company operati...          2  \n",
       "214  You are trying to access a Domain Name System ...          2  \n",
       "215  You are a system administrator in a finance co...          2  \n",
       "216  You manage state configurations of servers. Yo...          2  \n",
       "\n",
       "[203 rows x 5 columns]"
      ]
     },
     "execution_count": 33,
     "metadata": {},
     "output_type": "execute_result"
    }
   ],
   "source": [
    "df[df['questions'].apply(lambda x: bool(x))]"
   ]
  },
  {
   "cell_type": "code",
   "execution_count": 34,
   "id": "34e05311-7245-42c9-8ba3-b0ae9c9e2f5e",
   "metadata": {},
   "outputs": [
    {
     "name": "stdout",
     "output_type": "stream",
     "text": [
      "Index([  0,   2,   3,   4,   5,   6,   7,   8,   9,  10,\n",
      "       ...\n",
      "       207, 208, 209, 210, 211, 212, 213, 214, 215, 216],\n",
      "      dtype='int64', length=203)\n"
     ]
    }
   ],
   "source": [
    "print(df.index)"
   ]
  },
  {
   "cell_type": "code",
   "execution_count": 35,
   "id": "5f642eef-2c5c-4417-9535-30e0ad6dca53",
   "metadata": {},
   "outputs": [],
   "source": [
    "df = df.reset_index(drop=True)"
   ]
  },
  {
   "cell_type": "raw",
   "id": "7cfe3af4-6aad-45e9-a6a8-b0d6fade7ad3",
   "metadata": {},
   "source": [
    "df.info"
   ]
  },
  {
   "cell_type": "code",
   "execution_count": 36,
   "id": "c9c9a993-5433-461c-bd33-6e9b386bc17c",
   "metadata": {},
   "outputs": [
    {
     "data": {
      "text/html": [
       "<div>\n",
       "<style scoped>\n",
       "    .dataframe tbody tr th:only-of-type {\n",
       "        vertical-align: middle;\n",
       "    }\n",
       "\n",
       "    .dataframe tbody tr th {\n",
       "        vertical-align: top;\n",
       "    }\n",
       "\n",
       "    .dataframe thead th {\n",
       "        text-align: right;\n",
       "    }\n",
       "</style>\n",
       "<table border=\"1\" class=\"dataframe\">\n",
       "  <thead>\n",
       "    <tr style=\"text-align: right;\">\n",
       "      <th></th>\n",
       "      <th>questions</th>\n",
       "      <th>options</th>\n",
       "      <th>score</th>\n",
       "    </tr>\n",
       "  </thead>\n",
       "  <tbody>\n",
       "    <tr>\n",
       "      <th>0</th>\n",
       "      <td>You are working on a Django project for a comp...</td>\n",
       "      <td>[&lt;p&gt;Impersonate the guest authors and change t...</td>\n",
       "      <td>[&lt;p&gt;Apply the &lt;code&gt;&lt;strong&gt;```title```&lt;/stron...</td>\n",
       "    </tr>\n",
       "    <tr>\n",
       "      <th>1</th>\n",
       "      <td>Given the Dockerfile below, what is the best w...</td>\n",
       "      <td>[&lt;p&gt;The registry will only store the first ima...</td>\n",
       "      <td>[&lt;p&gt;The registry will only store the first ima...</td>\n",
       "    </tr>\n",
       "    <tr>\n",
       "      <th>2</th>\n",
       "      <td>Which code snippet can you use to delay the lo...</td>\n",
       "      <td>[&lt;pre class=\"ql-syntax\" spellcheck=\"false\"&gt;pri...</td>\n",
       "      <td>[&lt;pre class=\"ql-syntax\" spellcheck=\"false\"&gt;pri...</td>\n",
       "    </tr>\n",
       "    <tr>\n",
       "      <th>3</th>\n",
       "      <td>You're building a high-throughput API for a cr...</td>\n",
       "      <td>[&lt;pre class=\"ql-syntax\" spellcheck=\"false\"&gt;{\\n...</td>\n",
       "      <td>[&lt;pre class=\"ql-syntax\" spellcheck=\"false\"&gt;{\\n...</td>\n",
       "    </tr>\n",
       "    <tr>\n",
       "      <th>4</th>\n",
       "      <td>Which one of the following trigger events shou...</td>\n",
       "      <td>[&lt;p&gt;The Decorator pattern and the Strategy pat...</td>\n",
       "      <td>[&lt;p&gt;The Decorator pattern and the Strategy pat...</td>\n",
       "    </tr>\n",
       "  </tbody>\n",
       "</table>\n",
       "</div>"
      ],
      "text/plain": [
       "                                           questions  \\\n",
       "0  You are working on a Django project for a comp...   \n",
       "1  Given the Dockerfile below, what is the best w...   \n",
       "2  Which code snippet can you use to delay the lo...   \n",
       "3  You're building a high-throughput API for a cr...   \n",
       "4  Which one of the following trigger events shou...   \n",
       "\n",
       "                                             options  \\\n",
       "0  [<p>Impersonate the guest authors and change t...   \n",
       "1  [<p>The registry will only store the first ima...   \n",
       "2  [<pre class=\"ql-syntax\" spellcheck=\"false\">pri...   \n",
       "3  [<pre class=\"ql-syntax\" spellcheck=\"false\">{\\n...   \n",
       "4  [<p>The Decorator pattern and the Strategy pat...   \n",
       "\n",
       "                                               score  \n",
       "0  [<p>Apply the <code><strong>```title```</stron...  \n",
       "1  [<p>The registry will only store the first ima...  \n",
       "2  [<pre class=\"ql-syntax\" spellcheck=\"false\">pri...  \n",
       "3  [<pre class=\"ql-syntax\" spellcheck=\"false\">{\\n...  \n",
       "4  [<p>The Decorator pattern and the Strategy pat...  "
      ]
     },
     "execution_count": 36,
     "metadata": {},
     "output_type": "execute_result"
    }
   ],
   "source": [
    "def extract_options_and_score(row):\n",
    "    json_data = json.loads(row['json_response'])\n",
    "    preview_questions = json_data.get(\"preview_questions\", [])\n",
    "    \n",
    "    options = []\n",
    "    score = []\n",
    "\n",
    "    if preview_questions:\n",
    "        for question in preview_questions:\n",
    "            options = [answer.get(\"text\", \"\") for answer in question.get(\"answers\", [])]\n",
    "            score = [answer.get(\"text\", \"\") for answer in question.get(\"answers\", []) if answer.get(\"score\", 0) > 0]\n",
    "    \n",
    "    return options, score\n",
    "df[['options', 'score']] = df.apply(lambda row: pd.Series(extract_options_and_score(row)), axis=1)\n",
    "df[['questions', 'options', 'score']].head()\n"
   ]
  },
  {
   "cell_type": "code",
   "execution_count": 37,
   "id": "127b8b4f-92ba-4fd3-8337-b5817b6951a3",
   "metadata": {},
   "outputs": [
    {
     "data": {
      "text/html": [
       "<div>\n",
       "<style scoped>\n",
       "    .dataframe tbody tr th:only-of-type {\n",
       "        vertical-align: middle;\n",
       "    }\n",
       "\n",
       "    .dataframe tbody tr th {\n",
       "        vertical-align: top;\n",
       "    }\n",
       "\n",
       "    .dataframe thead th {\n",
       "        text-align: right;\n",
       "    }\n",
       "</style>\n",
       "<table border=\"1\" class=\"dataframe\">\n",
       "  <thead>\n",
       "    <tr style=\"text-align: right;\">\n",
       "      <th></th>\n",
       "      <th>Title</th>\n",
       "      <th>json_response</th>\n",
       "      <th>type</th>\n",
       "      <th>questions</th>\n",
       "      <th>ques_type</th>\n",
       "      <th>options</th>\n",
       "      <th>score</th>\n",
       "    </tr>\n",
       "  </thead>\n",
       "  <tbody>\n",
       "    <tr>\n",
       "      <th>0</th>\n",
       "      <td>Django</td>\n",
       "      <td>{\\n    \"id\": 1250569,\\n    \"name\": \"Django\",\\n...</td>\n",
       "      <td>Programming skills</td>\n",
       "      <td>You are working on a Django project for a comp...</td>\n",
       "      <td>2</td>\n",
       "      <td>[Impersonate the guest authors and change the ...</td>\n",
       "      <td>[Apply the ```title``` HTML template filter, e...</td>\n",
       "    </tr>\n",
       "    <tr>\n",
       "      <th>1</th>\n",
       "      <td>Docker</td>\n",
       "      <td>{\\n    \"id\": 170977,\\n    \"name\": \"Docker\",\\n ...</td>\n",
       "      <td>Software skills</td>\n",
       "      <td>Given the Dockerfile below, what is the best w...</td>\n",
       "      <td>2</td>\n",
       "      <td>[The registry will only store the first image ...</td>\n",
       "      <td>[The registry will only store the first image ...</td>\n",
       "    </tr>\n",
       "    <tr>\n",
       "      <th>2</th>\n",
       "      <td>ASP.NET</td>\n",
       "      <td>{\\n    \"id\": 895134,\\n    \"name\": \"ASP.NET (in...</td>\n",
       "      <td>Programming skills</td>\n",
       "      <td>Which code snippet can you use to delay the lo...</td>\n",
       "      <td>2</td>\n",
       "      <td>[private async Task BroadcastMarket()       { ...</td>\n",
       "      <td>[private async Task BroadcastMarket()        {...</td>\n",
       "    </tr>\n",
       "    <tr>\n",
       "      <th>3</th>\n",
       "      <td>Creating REST APIs</td>\n",
       "      <td>{\\n    \"id\": 1950355,\\n    \"name\": \"Creating R...</td>\n",
       "      <td>Programming skills</td>\n",
       "      <td>You're building a high-throughput API for a cr...</td>\n",
       "      <td>2</td>\n",
       "      <td>[{ “phone”: “123-123-1234” }, { “phone”: {phon...</td>\n",
       "      <td>[{ “phone”: “123-123-1234” }]</td>\n",
       "    </tr>\n",
       "    <tr>\n",
       "      <th>4</th>\n",
       "      <td>Apex (Salesforce)</td>\n",
       "      <td>{\\n    \"id\": 1134919,\\n    \"name\": \"Apex (Sale...</td>\n",
       "      <td>Programming skills</td>\n",
       "      <td>Which one of the following trigger events shou...</td>\n",
       "      <td>2</td>\n",
       "      <td>[The Decorator pattern and the Strategy patter...</td>\n",
       "      <td>[The Decorator pattern and the Strategy pattern]</td>\n",
       "    </tr>\n",
       "  </tbody>\n",
       "</table>\n",
       "</div>"
      ],
      "text/plain": [
       "                Title                                      json_response  \\\n",
       "0              Django  {\\n    \"id\": 1250569,\\n    \"name\": \"Django\",\\n...   \n",
       "1              Docker  {\\n    \"id\": 170977,\\n    \"name\": \"Docker\",\\n ...   \n",
       "2             ASP.NET  {\\n    \"id\": 895134,\\n    \"name\": \"ASP.NET (in...   \n",
       "3  Creating REST APIs  {\\n    \"id\": 1950355,\\n    \"name\": \"Creating R...   \n",
       "4   Apex (Salesforce)  {\\n    \"id\": 1134919,\\n    \"name\": \"Apex (Sale...   \n",
       "\n",
       "                 type                                          questions  \\\n",
       "0  Programming skills  You are working on a Django project for a comp...   \n",
       "1     Software skills  Given the Dockerfile below, what is the best w...   \n",
       "2  Programming skills  Which code snippet can you use to delay the lo...   \n",
       "3  Programming skills  You're building a high-throughput API for a cr...   \n",
       "4  Programming skills  Which one of the following trigger events shou...   \n",
       "\n",
       "   ques_type                                            options  \\\n",
       "0          2  [Impersonate the guest authors and change the ...   \n",
       "1          2  [The registry will only store the first image ...   \n",
       "2          2  [private async Task BroadcastMarket()       { ...   \n",
       "3          2  [{ “phone”: “123-123-1234” }, { “phone”: {phon...   \n",
       "4          2  [The Decorator pattern and the Strategy patter...   \n",
       "\n",
       "                                               score  \n",
       "0  [Apply the ```title``` HTML template filter, e...  \n",
       "1  [The registry will only store the first image ...  \n",
       "2  [private async Task BroadcastMarket()        {...  \n",
       "3                      [{ “phone”: “123-123-1234” }]  \n",
       "4   [The Decorator pattern and the Strategy pattern]  "
      ]
     },
     "execution_count": 37,
     "metadata": {},
     "output_type": "execute_result"
    }
   ],
   "source": [
    "df['options'] = df['options'].apply(lambda options: [cleanhtml(opt) for opt in options] if isinstance(options, list) else options)\n",
    "df['score'] = df['score'].apply(lambda answers: [cleanhtml(ans) for ans in answers] if isinstance(answers, list) else answers)\n",
    "df.head()"
   ]
  },
  {
   "cell_type": "code",
   "execution_count": 38,
   "id": "82006ca7-eea4-4cf8-8fef-7758624d2201",
   "metadata": {},
   "outputs": [
    {
     "data": {
      "text/plain": [
       "Title            0\n",
       "json_response    0\n",
       "type             0\n",
       "questions        0\n",
       "ques_type        0\n",
       "options          0\n",
       "score            0\n",
       "dtype: int64"
      ]
     },
     "execution_count": 38,
     "metadata": {},
     "output_type": "execute_result"
    }
   ],
   "source": [
    "df.isnull().sum()"
   ]
  },
  {
   "cell_type": "code",
   "execution_count": 39,
   "id": "9ca94fc8-3747-4ded-8a26-9284d2a06798",
   "metadata": {},
   "outputs": [],
   "source": [
    "df.rename(columns={'questions': 'title'}, inplace=True)"
   ]
  },
  {
   "cell_type": "code",
   "execution_count": 40,
   "id": "2077a845-51f3-423a-a724-1fa83dda84d5",
   "metadata": {},
   "outputs": [
    {
     "data": {
      "text/html": [
       "<div>\n",
       "<style scoped>\n",
       "    .dataframe tbody tr th:only-of-type {\n",
       "        vertical-align: middle;\n",
       "    }\n",
       "\n",
       "    .dataframe tbody tr th {\n",
       "        vertical-align: top;\n",
       "    }\n",
       "\n",
       "    .dataframe thead th {\n",
       "        text-align: right;\n",
       "    }\n",
       "</style>\n",
       "<table border=\"1\" class=\"dataframe\">\n",
       "  <thead>\n",
       "    <tr style=\"text-align: right;\">\n",
       "      <th></th>\n",
       "      <th>Title</th>\n",
       "      <th>json_response</th>\n",
       "      <th>type</th>\n",
       "      <th>title</th>\n",
       "      <th>ques_type</th>\n",
       "      <th>options</th>\n",
       "      <th>score</th>\n",
       "    </tr>\n",
       "  </thead>\n",
       "  <tbody>\n",
       "    <tr>\n",
       "      <th>0</th>\n",
       "      <td>Django</td>\n",
       "      <td>{\\n    \"id\": 1250569,\\n    \"name\": \"Django\",\\n...</td>\n",
       "      <td>Programming skills</td>\n",
       "      <td>You are working on a Django project for a comp...</td>\n",
       "      <td>2</td>\n",
       "      <td>[Impersonate the guest authors and change the ...</td>\n",
       "      <td>[Apply the ```title``` HTML template filter, e...</td>\n",
       "    </tr>\n",
       "    <tr>\n",
       "      <th>1</th>\n",
       "      <td>Docker</td>\n",
       "      <td>{\\n    \"id\": 170977,\\n    \"name\": \"Docker\",\\n ...</td>\n",
       "      <td>Software skills</td>\n",
       "      <td>Given the Dockerfile below, what is the best w...</td>\n",
       "      <td>2</td>\n",
       "      <td>[The registry will only store the first image ...</td>\n",
       "      <td>[The registry will only store the first image ...</td>\n",
       "    </tr>\n",
       "    <tr>\n",
       "      <th>2</th>\n",
       "      <td>ASP.NET</td>\n",
       "      <td>{\\n    \"id\": 895134,\\n    \"name\": \"ASP.NET (in...</td>\n",
       "      <td>Programming skills</td>\n",
       "      <td>Which code snippet can you use to delay the lo...</td>\n",
       "      <td>2</td>\n",
       "      <td>[private async Task BroadcastMarket()       { ...</td>\n",
       "      <td>[private async Task BroadcastMarket()        {...</td>\n",
       "    </tr>\n",
       "    <tr>\n",
       "      <th>3</th>\n",
       "      <td>Creating REST APIs</td>\n",
       "      <td>{\\n    \"id\": 1950355,\\n    \"name\": \"Creating R...</td>\n",
       "      <td>Programming skills</td>\n",
       "      <td>You're building a high-throughput API for a cr...</td>\n",
       "      <td>2</td>\n",
       "      <td>[{ “phone”: “123-123-1234” }, { “phone”: {phon...</td>\n",
       "      <td>[{ “phone”: “123-123-1234” }]</td>\n",
       "    </tr>\n",
       "    <tr>\n",
       "      <th>4</th>\n",
       "      <td>Apex (Salesforce)</td>\n",
       "      <td>{\\n    \"id\": 1134919,\\n    \"name\": \"Apex (Sale...</td>\n",
       "      <td>Programming skills</td>\n",
       "      <td>Which one of the following trigger events shou...</td>\n",
       "      <td>2</td>\n",
       "      <td>[The Decorator pattern and the Strategy patter...</td>\n",
       "      <td>[The Decorator pattern and the Strategy pattern]</td>\n",
       "    </tr>\n",
       "  </tbody>\n",
       "</table>\n",
       "</div>"
      ],
      "text/plain": [
       "                Title                                      json_response  \\\n",
       "0              Django  {\\n    \"id\": 1250569,\\n    \"name\": \"Django\",\\n...   \n",
       "1              Docker  {\\n    \"id\": 170977,\\n    \"name\": \"Docker\",\\n ...   \n",
       "2             ASP.NET  {\\n    \"id\": 895134,\\n    \"name\": \"ASP.NET (in...   \n",
       "3  Creating REST APIs  {\\n    \"id\": 1950355,\\n    \"name\": \"Creating R...   \n",
       "4   Apex (Salesforce)  {\\n    \"id\": 1134919,\\n    \"name\": \"Apex (Sale...   \n",
       "\n",
       "                 type                                              title  \\\n",
       "0  Programming skills  You are working on a Django project for a comp...   \n",
       "1     Software skills  Given the Dockerfile below, what is the best w...   \n",
       "2  Programming skills  Which code snippet can you use to delay the lo...   \n",
       "3  Programming skills  You're building a high-throughput API for a cr...   \n",
       "4  Programming skills  Which one of the following trigger events shou...   \n",
       "\n",
       "   ques_type                                            options  \\\n",
       "0          2  [Impersonate the guest authors and change the ...   \n",
       "1          2  [The registry will only store the first image ...   \n",
       "2          2  [private async Task BroadcastMarket()       { ...   \n",
       "3          2  [{ “phone”: “123-123-1234” }, { “phone”: {phon...   \n",
       "4          2  [The Decorator pattern and the Strategy patter...   \n",
       "\n",
       "                                               score  \n",
       "0  [Apply the ```title``` HTML template filter, e...  \n",
       "1  [The registry will only store the first image ...  \n",
       "2  [private async Task BroadcastMarket()        {...  \n",
       "3                      [{ “phone”: “123-123-1234” }]  \n",
       "4   [The Decorator pattern and the Strategy pattern]  "
      ]
     },
     "execution_count": 40,
     "metadata": {},
     "output_type": "execute_result"
    }
   ],
   "source": [
    "df.head()"
   ]
  },
  {
   "cell_type": "code",
   "execution_count": 41,
   "id": "32307cab-aee6-491c-b170-957efe513960",
   "metadata": {},
   "outputs": [
    {
     "name": "stdout",
     "output_type": "stream",
     "text": [
      "<class 'pandas.core.frame.DataFrame'>\n",
      "RangeIndex: 203 entries, 0 to 202\n",
      "Data columns (total 7 columns):\n",
      " #   Column         Non-Null Count  Dtype \n",
      "---  ------         --------------  ----- \n",
      " 0   Title          203 non-null    object\n",
      " 1   json_response  203 non-null    object\n",
      " 2   type           203 non-null    object\n",
      " 3   title          203 non-null    object\n",
      " 4   ques_type      203 non-null    int64 \n",
      " 5   options        203 non-null    object\n",
      " 6   score          203 non-null    object\n",
      "dtypes: int64(1), object(6)\n",
      "memory usage: 11.2+ KB\n"
     ]
    }
   ],
   "source": [
    "df.info()"
   ]
  },
  {
   "cell_type": "markdown",
   "id": "6ed11c13-8671-4bf2-a892-408670502b06",
   "metadata": {},
   "source": [
    "###### duplicate = df[df.duplicated(subset=[\"title\"], keep=False)].shape[0]\n",
    "duplicate"
   ]
  },
  {
   "cell_type": "code",
   "execution_count": 42,
   "id": "08cb7114-b9ce-460f-8e34-c378d42e054f",
   "metadata": {
    "scrolled": true
   },
   "outputs": [],
   "source": [
    "df.drop_duplicates(subset=[\"title\"], inplace=True)\n",
    "df.reset_index(drop=True, inplace=True)"
   ]
  },
  {
   "cell_type": "code",
   "execution_count": 43,
   "id": "5176b998-242f-40b0-8e77-d980e91de9ab",
   "metadata": {
    "scrolled": true
   },
   "outputs": [
    {
     "data": {
      "text/html": [
       "<div>\n",
       "<style scoped>\n",
       "    .dataframe tbody tr th:only-of-type {\n",
       "        vertical-align: middle;\n",
       "    }\n",
       "\n",
       "    .dataframe tbody tr th {\n",
       "        vertical-align: top;\n",
       "    }\n",
       "\n",
       "    .dataframe thead th {\n",
       "        text-align: right;\n",
       "    }\n",
       "</style>\n",
       "<table border=\"1\" class=\"dataframe\">\n",
       "  <thead>\n",
       "    <tr style=\"text-align: right;\">\n",
       "      <th></th>\n",
       "      <th>Title</th>\n",
       "      <th>title</th>\n",
       "      <th>ques_type</th>\n",
       "      <th>options</th>\n",
       "      <th>score</th>\n",
       "    </tr>\n",
       "  </thead>\n",
       "  <tbody>\n",
       "    <tr>\n",
       "      <th>0</th>\n",
       "      <td>Django</td>\n",
       "      <td>You are working on a Django project for a comp...</td>\n",
       "      <td>2</td>\n",
       "      <td>[Impersonate the guest authors and change the ...</td>\n",
       "      <td>[Apply the ```title``` HTML template filter, e...</td>\n",
       "    </tr>\n",
       "    <tr>\n",
       "      <th>1</th>\n",
       "      <td>Docker</td>\n",
       "      <td>Given the Dockerfile below, what is the best w...</td>\n",
       "      <td>2</td>\n",
       "      <td>[The registry will only store the first image ...</td>\n",
       "      <td>[The registry will only store the first image ...</td>\n",
       "    </tr>\n",
       "    <tr>\n",
       "      <th>2</th>\n",
       "      <td>ASP.NET</td>\n",
       "      <td>Which code snippet can you use to delay the lo...</td>\n",
       "      <td>2</td>\n",
       "      <td>[private async Task BroadcastMarket()       { ...</td>\n",
       "      <td>[private async Task BroadcastMarket()        {...</td>\n",
       "    </tr>\n",
       "    <tr>\n",
       "      <th>3</th>\n",
       "      <td>Creating REST APIs</td>\n",
       "      <td>You're building a high-throughput API for a cr...</td>\n",
       "      <td>2</td>\n",
       "      <td>[{ “phone”: “123-123-1234” }, { “phone”: {phon...</td>\n",
       "      <td>[{ “phone”: “123-123-1234” }]</td>\n",
       "    </tr>\n",
       "    <tr>\n",
       "      <th>4</th>\n",
       "      <td>Apex (Salesforce)</td>\n",
       "      <td>Which one of the following trigger events shou...</td>\n",
       "      <td>2</td>\n",
       "      <td>[The Decorator pattern and the Strategy patter...</td>\n",
       "      <td>[The Decorator pattern and the Strategy pattern]</td>\n",
       "    </tr>\n",
       "    <tr>\n",
       "      <th>...</th>\n",
       "      <td>...</td>\n",
       "      <td>...</td>\n",
       "      <td>...</td>\n",
       "      <td>...</td>\n",
       "      <td>...</td>\n",
       "    </tr>\n",
       "    <tr>\n",
       "      <th>163</th>\n",
       "      <td>NetSuite Administration</td>\n",
       "      <td>In a custom NetSuite sales order form, the \"Pa...</td>\n",
       "      <td>2</td>\n",
       "      <td>[The customer's browser version is outdated an...</td>\n",
       "      <td>[The credit card type is not supported by NetS...</td>\n",
       "    </tr>\n",
       "    <tr>\n",
       "      <th>164</th>\n",
       "      <td>Advanced Networking in Amazon Web Services (AWS)</td>\n",
       "      <td>As a solutions architect for a company operati...</td>\n",
       "      <td>2</td>\n",
       "      <td>[Amazon CloudFront, AWS Direct Connect, AWS Gl...</td>\n",
       "      <td>[Amazon CloudFront]</td>\n",
       "    </tr>\n",
       "    <tr>\n",
       "      <th>165</th>\n",
       "      <td>Linux</td>\n",
       "      <td>You are trying to access a Domain Name System ...</td>\n",
       "      <td>2</td>\n",
       "      <td>[True, False]</td>\n",
       "      <td>[False]</td>\n",
       "    </tr>\n",
       "    <tr>\n",
       "      <th>166</th>\n",
       "      <td>Wireshark</td>\n",
       "      <td>You are a system administrator in a finance co...</td>\n",
       "      <td>2</td>\n",
       "      <td>[sip.response-time, sip.response-time = 1, TCP...</td>\n",
       "      <td>[sip.response-time]</td>\n",
       "    </tr>\n",
       "    <tr>\n",
       "      <th>167</th>\n",
       "      <td>Ansible</td>\n",
       "      <td>You manage state configurations of servers. Yo...</td>\n",
       "      <td>2</td>\n",
       "      <td>[True, False]</td>\n",
       "      <td>[True]</td>\n",
       "    </tr>\n",
       "  </tbody>\n",
       "</table>\n",
       "<p>168 rows × 5 columns</p>\n",
       "</div>"
      ],
      "text/plain": [
       "                                                Title  \\\n",
       "0                                              Django   \n",
       "1                                              Docker   \n",
       "2                                             ASP.NET   \n",
       "3                                  Creating REST APIs   \n",
       "4                                   Apex (Salesforce)   \n",
       "..                                                ...   \n",
       "163                           NetSuite Administration   \n",
       "164  Advanced Networking in Amazon Web Services (AWS)   \n",
       "165                                             Linux   \n",
       "166                                         Wireshark   \n",
       "167                                           Ansible   \n",
       "\n",
       "                                                 title  ques_type  \\\n",
       "0    You are working on a Django project for a comp...          2   \n",
       "1    Given the Dockerfile below, what is the best w...          2   \n",
       "2    Which code snippet can you use to delay the lo...          2   \n",
       "3    You're building a high-throughput API for a cr...          2   \n",
       "4    Which one of the following trigger events shou...          2   \n",
       "..                                                 ...        ...   \n",
       "163  In a custom NetSuite sales order form, the \"Pa...          2   \n",
       "164  As a solutions architect for a company operati...          2   \n",
       "165  You are trying to access a Domain Name System ...          2   \n",
       "166  You are a system administrator in a finance co...          2   \n",
       "167  You manage state configurations of servers. Yo...          2   \n",
       "\n",
       "                                               options  \\\n",
       "0    [Impersonate the guest authors and change the ...   \n",
       "1    [The registry will only store the first image ...   \n",
       "2    [private async Task BroadcastMarket()       { ...   \n",
       "3    [{ “phone”: “123-123-1234” }, { “phone”: {phon...   \n",
       "4    [The Decorator pattern and the Strategy patter...   \n",
       "..                                                 ...   \n",
       "163  [The customer's browser version is outdated an...   \n",
       "164  [Amazon CloudFront, AWS Direct Connect, AWS Gl...   \n",
       "165                                      [True, False]   \n",
       "166  [sip.response-time, sip.response-time = 1, TCP...   \n",
       "167                                      [True, False]   \n",
       "\n",
       "                                                 score  \n",
       "0    [Apply the ```title``` HTML template filter, e...  \n",
       "1    [The registry will only store the first image ...  \n",
       "2    [private async Task BroadcastMarket()        {...  \n",
       "3                        [{ “phone”: “123-123-1234” }]  \n",
       "4     [The Decorator pattern and the Strategy pattern]  \n",
       "..                                                 ...  \n",
       "163  [The credit card type is not supported by NetS...  \n",
       "164                                [Amazon CloudFront]  \n",
       "165                                            [False]  \n",
       "166                                [sip.response-time]  \n",
       "167                                             [True]  \n",
       "\n",
       "[168 rows x 5 columns]"
      ]
     },
     "execution_count": 43,
     "metadata": {},
     "output_type": "execute_result"
    }
   ],
   "source": [
    "df[['Title', 'title', 'ques_type', 'options', 'score']]"
   ]
  },
  {
   "cell_type": "code",
   "execution_count": 44,
   "id": "ad920f22-3a2a-456f-8f9f-d8f666302bf8",
   "metadata": {},
   "outputs": [],
   "source": [
    "def format_to_template(row):\n",
    "    return {\n",
    "        \"title\": row['title'],\n",
    "        \"ques_type\": row['ques_type'],\n",
    "        \"options\": row['options'],\n",
    "        \"score\": row['score']\n",
    "    }\n",
    "\n",
    "\n",
    "formatted_data = df.apply(format_to_template, axis=1).tolist()\n",
    "formatted_df = pd.DataFrame(formatted_data)\n",
    "formatted_df.to_excel('questions_kit.xlsx', index=False)"
   ]
  }
 ],
 "metadata": {
  "kernelspec": {
   "display_name": "Python 3 (ipykernel)",
   "language": "python",
   "name": "python3"
  },
  "language_info": {
   "codemirror_mode": {
    "name": "ipython",
    "version": 3
   },
   "file_extension": ".py",
   "mimetype": "text/x-python",
   "name": "python",
   "nbconvert_exporter": "python",
   "pygments_lexer": "ipython3",
   "version": "3.13.1"
  }
 },
 "nbformat": 4,
 "nbformat_minor": 5
}
