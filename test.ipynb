{
 "cells": [
  {
   "cell_type": "code",
   "execution_count": 1,
   "id": "f705b993-0171-41b5-9013-fc95badebd25",
   "metadata": {},
   "outputs": [
    {
     "data": {
      "text/html": [
       "<div>\n",
       "<style scoped>\n",
       "    .dataframe tbody tr th:only-of-type {\n",
       "        vertical-align: middle;\n",
       "    }\n",
       "\n",
       "    .dataframe tbody tr th {\n",
       "        vertical-align: top;\n",
       "    }\n",
       "\n",
       "    .dataframe thead th {\n",
       "        text-align: right;\n",
       "    }\n",
       "</style>\n",
       "<table border=\"1\" class=\"dataframe\">\n",
       "  <thead>\n",
       "    <tr style=\"text-align: right;\">\n",
       "      <th></th>\n",
       "      <th>questions = [     {         \"title\": \"You are designing a new social media app. One of the app\\u2019s features is the ability for users to post comments on other users' posts. You need to decompose the task of posting a comment into smaller steps.Which of the following is the best algorithm for suggesting search results?\",         \"ques_type\": 2,         \"options\": [             \"1. Enter the text of the comment.2. Click the \\\"Post Comment\\\" button.3. Wait for the comment to be posted.\",             \"1. Authenticate the user.2. Validate the comment text.3. Insert the comment into the database.\",             \"1. Render the comment form.2. Handle the comment submission.3. Update the user's post with the new comment.\",             \"1. Parse the comment text.2. Generate a preview of the comment.3. Post the comment to the user's feed.\"         ],         \"score\": \"1. Authenticate the user.2. Validate the comment text.3. Insert the comment into the database.\"     },     {         \"title\": \"Which of the following would best represent the patterns in this list?x x y y y y z z x x x x\",         \"ques_type\": 2,         \"options\": [             \"(x,2)(x,1)(z,1),(z,3)(x,1)(x,3)\",             \"(x,2)(y,4)(z,2)(x,4)\",             \"(x,3)(y,1)(z,3)\",             \"(x,1)(y,4)(x,4)\"         ],         \"score\": \"(x,2)(y,4)(z,2)(x,4)\"     },     {         \"title\": \"You are a delivery driver for a package delivery company. You have a list of packages to deliver to different addresses in the city. You want to spend as little time as possible driving around the city delivering the packages. Which of the following is the best algorithm for doing this?\",         \"ques_type\": 2,         \"options\": [             \"Drive to each address on the list in order. If there is a package to deliver at that address, then deliver it.\",             \"For each package on the list, go to the address it is to be delivered to and deliver it.\",             \"Determine which neighborhood each delivery address is in. Cluster the list by deliveries in the same neighborhood. Drive to each neighborhood once and deliver all of the packages in that neighborhood.\",             \"Drive to the address of the package that is furthest away from your starting location. Deliver that package. Then drive to the address of the next furthest away package, and so on until all of the packages have been delivered.\"         ],         \"score\": \"Determine which neighborhood each delivery address is in. Cluster the list by deliveries in the same neighborhood. Drive to each neighborhood once and deliver all of the packages in that neighborhood.\"     },     {         \"title\": \"You are designing a software application for a library management system. The system needs to keep track of various details for each book, such as title, author, publication date, and ISBN. However, you also need to ensure the software can handle other types of items, like DVDs and magazines, with their own specific attributes.Which concept of abstraction best applies to this situation?\",         \"ques_type\": 2,         \"options\": [             \"Reducing the storage space required for storing book details in the database.\",             \"Simplifying the user interface to make it more user-friendly.\",             \"Generalizing the common attributes and behaviors of different types of library items.\",             \"Increasing the number of available functions and features in the software.\"         ],         \"score\": \"Generalizing the common attributes and behaviors of different types of library items.\"     } ]</th>\n",
       "    </tr>\n",
       "  </thead>\n",
       "  <tbody>\n",
       "  </tbody>\n",
       "</table>\n",
       "</div>"
      ],
      "text/plain": [
       "Empty DataFrame\n",
       "Columns: [questions = [     {         \"title\": \"You are designing a new social media app. One of the app\\u2019s features is the ability for users to post comments on other users' posts. You need to decompose the task of posting a comment into smaller steps.Which of the following is the best algorithm for suggesting search results?\",         \"ques_type\": 2,         \"options\": [             \"1. Enter the text of the comment.2. Click the \\\"Post Comment\\\" button.3. Wait for the comment to be posted.\",             \"1. Authenticate the user.2. Validate the comment text.3. Insert the comment into the database.\",             \"1. Render the comment form.2. Handle the comment submission.3. Update the user's post with the new comment.\",             \"1. Parse the comment text.2. Generate a preview of the comment.3. Post the comment to the user's feed.\"         ],         \"score\": \"1. Authenticate the user.2. Validate the comment text.3. Insert the comment into the database.\"     },     {         \"title\": \"Which of the following would best represent the patterns in this list?x x y y y y z z x x x x\",         \"ques_type\": 2,         \"options\": [             \"(x,2)(x,1)(z,1),(z,3)(x,1)(x,3)\",             \"(x,2)(y,4)(z,2)(x,4)\",             \"(x,3)(y,1)(z,3)\",             \"(x,1)(y,4)(x,4)\"         ],         \"score\": \"(x,2)(y,4)(z,2)(x,4)\"     },     {         \"title\": \"You are a delivery driver for a package delivery company. You have a list of packages to deliver to different addresses in the city. You want to spend as little time as possible driving around the city delivering the packages. Which of the following is the best algorithm for doing this?\",         \"ques_type\": 2,         \"options\": [             \"Drive to each address on the list in order. If there is a package to deliver at that address, then deliver it.\",             \"For each package on the list, go to the address it is to be delivered to and deliver it.\",             \"Determine which neighborhood each delivery address is in. Cluster the list by deliveries in the same neighborhood. Drive to each neighborhood once and deliver all of the packages in that neighborhood.\",             \"Drive to the address of the package that is furthest away from your starting location. Deliver that package. Then drive to the address of the next furthest away package, and so on until all of the packages have been delivered.\"         ],         \"score\": \"Determine which neighborhood each delivery address is in. Cluster the list by deliveries in the same neighborhood. Drive to each neighborhood once and deliver all of the packages in that neighborhood.\"     },     {         \"title\": \"You are designing a software application for a library management system. The system needs to keep track of various details for each book, such as title, author, publication date, and ISBN. However, you also need to ensure the software can handle other types of items, like DVDs and magazines, with their own specific attributes.Which concept of abstraction best applies to this situation?\",         \"ques_type\": 2,         \"options\": [             \"Reducing the storage space required for storing book details in the database.\",             \"Simplifying the user interface to make it more user-friendly.\",             \"Generalizing the common attributes and behaviors of different types of library items.\",             \"Increasing the number of available functions and features in the software.\"         ],         \"score\": \"Generalizing the common attributes and behaviors of different types of library items.\"     } ]]\n",
       "Index: []"
      ]
     },
     "execution_count": 1,
     "metadata": {},
     "output_type": "execute_result"
    }
   ],
   "source": [
    "import pandas as pd\n",
    "df = pd.read_excel(\"Computational Thinking.xlsx\")\n",
    "df"
   ]
  }
 ],
 "metadata": {
  "kernelspec": {
   "display_name": "Python 3 (ipykernel)",
   "language": "python",
   "name": "python3"
  },
  "language_info": {
   "codemirror_mode": {
    "name": "ipython",
    "version": 3
   },
   "file_extension": ".py",
   "mimetype": "text/x-python",
   "name": "python",
   "nbconvert_exporter": "python",
   "pygments_lexer": "ipython3",
   "version": "3.13.1"
  }
 },
 "nbformat": 4,
 "nbformat_minor": 5
}
